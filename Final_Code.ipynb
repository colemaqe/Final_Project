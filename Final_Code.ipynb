{
 "cells": [
  {
   "cell_type": "code",
   "execution_count": null,
   "id": "db061402",
   "metadata": {},
   "outputs": [],
   "source": [
    "#After lots of confusion I will do my project comparing different stocks"
   ]
  },
  {
   "cell_type": "code",
   "execution_count": 1,
   "id": "f5c9926a",
   "metadata": {},
   "outputs": [],
   "source": [
    "import pandas as pd\n",
    "import numpy as np\n",
    "import matplotlib.pyplot as plt\n",
    "import seaborn as sns\n",
    "from pandas.plotting import lag_plot\n",
    "import datetime"
   ]
  },
  {
   "cell_type": "code",
   "execution_count": null,
   "id": "52c15e8c",
   "metadata": {},
   "outputs": [],
   "source": [
    "# I am using yfinance to pull my data"
   ]
  },
  {
   "cell_type": "code",
   "execution_count": 2,
   "id": "cf8a224d",
   "metadata": {},
   "outputs": [],
   "source": [
    "# ! pip install yfinance\n",
    "import yfinance as yf\n",
    "sig = yf.Ticker('SIG')\n",
    "sig_df = sig.history(start=\"2015-01-01\" , end=\"2022-10-30\")"
   ]
  },
  {
   "cell_type": "code",
   "execution_count": 3,
   "id": "b1a1f2c2",
   "metadata": {},
   "outputs": [],
   "source": [
    "#import yfinance as yf\n",
    "mov = yf.Ticker('MOV')\n",
    "mov_df = mov.history(start=\"2015-01-01\" , end=\"2022-10-30\")"
   ]
  },
  {
   "cell_type": "code",
   "execution_count": 4,
   "id": "37192611",
   "metadata": {},
   "outputs": [],
   "source": [
    "#import yfinance as yf\n",
    "PANDY = yf.Ticker('PANDY')\n",
    "pan_df = PANDY.history(start=\"2015-01-01\" , end=\"2022-10-30\")"
   ]
  },
  {
   "cell_type": "code",
   "execution_count": null,
   "id": "464bcd94",
   "metadata": {},
   "outputs": [],
   "source": [
    "# I need to fix the dates so I will do this below"
   ]
  },
  {
   "cell_type": "code",
   "execution_count": 5,
   "id": "9b4faad2",
   "metadata": {},
   "outputs": [
    {
     "data": {
      "text/html": [
       "<div>\n",
       "<style scoped>\n",
       "    .dataframe tbody tr th:only-of-type {\n",
       "        vertical-align: middle;\n",
       "    }\n",
       "\n",
       "    .dataframe tbody tr th {\n",
       "        vertical-align: top;\n",
       "    }\n",
       "\n",
       "    .dataframe thead th {\n",
       "        text-align: right;\n",
       "    }\n",
       "</style>\n",
       "<table border=\"1\" class=\"dataframe\">\n",
       "  <thead>\n",
       "    <tr style=\"text-align: right;\">\n",
       "      <th></th>\n",
       "      <th>Open</th>\n",
       "      <th>High</th>\n",
       "      <th>Low</th>\n",
       "      <th>Close</th>\n",
       "      <th>Volume</th>\n",
       "      <th>Dividends</th>\n",
       "      <th>Stock Splits</th>\n",
       "    </tr>\n",
       "    <tr>\n",
       "      <th>Date</th>\n",
       "      <th></th>\n",
       "      <th></th>\n",
       "      <th></th>\n",
       "      <th></th>\n",
       "      <th></th>\n",
       "      <th></th>\n",
       "      <th></th>\n",
       "    </tr>\n",
       "  </thead>\n",
       "  <tbody>\n",
       "    <tr>\n",
       "      <th>2015-01-02 00:00:00-05:00</th>\n",
       "      <td>113.292577</td>\n",
       "      <td>113.722106</td>\n",
       "      <td>109.796204</td>\n",
       "      <td>111.514320</td>\n",
       "      <td>578100</td>\n",
       "      <td>0.0</td>\n",
       "      <td>0</td>\n",
       "    </tr>\n",
       "    <tr>\n",
       "      <th>2015-01-05 00:00:00-05:00</th>\n",
       "      <td>111.239405</td>\n",
       "      <td>113.292553</td>\n",
       "      <td>109.950812</td>\n",
       "      <td>112.983292</td>\n",
       "      <td>964800</td>\n",
       "      <td>0.0</td>\n",
       "      <td>0</td>\n",
       "    </tr>\n",
       "    <tr>\n",
       "      <th>2015-01-06 00:00:00-05:00</th>\n",
       "      <td>113.000490</td>\n",
       "      <td>113.421434</td>\n",
       "      <td>108.155410</td>\n",
       "      <td>110.328819</td>\n",
       "      <td>1009400</td>\n",
       "      <td>0.0</td>\n",
       "      <td>0</td>\n",
       "    </tr>\n",
       "    <tr>\n",
       "      <th>2015-01-07 00:00:00-05:00</th>\n",
       "      <td>111.943832</td>\n",
       "      <td>113.387056</td>\n",
       "      <td>111.256583</td>\n",
       "      <td>112.399132</td>\n",
       "      <td>785200</td>\n",
       "      <td>0.0</td>\n",
       "      <td>0</td>\n",
       "    </tr>\n",
       "    <tr>\n",
       "      <th>2015-01-08 00:00:00-05:00</th>\n",
       "      <td>105.758628</td>\n",
       "      <td>109.100363</td>\n",
       "      <td>105.346277</td>\n",
       "      <td>108.361572</td>\n",
       "      <td>3058400</td>\n",
       "      <td>0.0</td>\n",
       "      <td>0</td>\n",
       "    </tr>\n",
       "    <tr>\n",
       "      <th>...</th>\n",
       "      <td>...</td>\n",
       "      <td>...</td>\n",
       "      <td>...</td>\n",
       "      <td>...</td>\n",
       "      <td>...</td>\n",
       "      <td>...</td>\n",
       "      <td>...</td>\n",
       "    </tr>\n",
       "    <tr>\n",
       "      <th>2022-10-24 00:00:00-04:00</th>\n",
       "      <td>56.376374</td>\n",
       "      <td>58.898609</td>\n",
       "      <td>55.020549</td>\n",
       "      <td>58.669312</td>\n",
       "      <td>746000</td>\n",
       "      <td>0.0</td>\n",
       "      <td>0</td>\n",
       "    </tr>\n",
       "    <tr>\n",
       "      <th>2022-10-25 00:00:00-04:00</th>\n",
       "      <td>58.928516</td>\n",
       "      <td>64.112548</td>\n",
       "      <td>58.928516</td>\n",
       "      <td>63.843380</td>\n",
       "      <td>651400</td>\n",
       "      <td>0.0</td>\n",
       "      <td>0</td>\n",
       "    </tr>\n",
       "    <tr>\n",
       "      <th>2022-10-26 00:00:00-04:00</th>\n",
       "      <td>63.723747</td>\n",
       "      <td>65.777427</td>\n",
       "      <td>62.627126</td>\n",
       "      <td>64.940002</td>\n",
       "      <td>793400</td>\n",
       "      <td>0.0</td>\n",
       "      <td>0</td>\n",
       "    </tr>\n",
       "    <tr>\n",
       "      <th>2022-10-27 00:00:00-04:00</th>\n",
       "      <td>65.820000</td>\n",
       "      <td>67.059998</td>\n",
       "      <td>64.860001</td>\n",
       "      <td>66.199997</td>\n",
       "      <td>499800</td>\n",
       "      <td>0.2</td>\n",
       "      <td>0</td>\n",
       "    </tr>\n",
       "    <tr>\n",
       "      <th>2022-10-28 00:00:00-04:00</th>\n",
       "      <td>66.180000</td>\n",
       "      <td>67.849998</td>\n",
       "      <td>64.010002</td>\n",
       "      <td>67.290001</td>\n",
       "      <td>709000</td>\n",
       "      <td>0.0</td>\n",
       "      <td>0</td>\n",
       "    </tr>\n",
       "  </tbody>\n",
       "</table>\n",
       "<p>1971 rows × 7 columns</p>\n",
       "</div>"
      ],
      "text/plain": [
       "                                 Open        High         Low       Close  \\\n",
       "Date                                                                        \n",
       "2015-01-02 00:00:00-05:00  113.292577  113.722106  109.796204  111.514320   \n",
       "2015-01-05 00:00:00-05:00  111.239405  113.292553  109.950812  112.983292   \n",
       "2015-01-06 00:00:00-05:00  113.000490  113.421434  108.155410  110.328819   \n",
       "2015-01-07 00:00:00-05:00  111.943832  113.387056  111.256583  112.399132   \n",
       "2015-01-08 00:00:00-05:00  105.758628  109.100363  105.346277  108.361572   \n",
       "...                               ...         ...         ...         ...   \n",
       "2022-10-24 00:00:00-04:00   56.376374   58.898609   55.020549   58.669312   \n",
       "2022-10-25 00:00:00-04:00   58.928516   64.112548   58.928516   63.843380   \n",
       "2022-10-26 00:00:00-04:00   63.723747   65.777427   62.627126   64.940002   \n",
       "2022-10-27 00:00:00-04:00   65.820000   67.059998   64.860001   66.199997   \n",
       "2022-10-28 00:00:00-04:00   66.180000   67.849998   64.010002   67.290001   \n",
       "\n",
       "                            Volume  Dividends  Stock Splits  \n",
       "Date                                                         \n",
       "2015-01-02 00:00:00-05:00   578100        0.0             0  \n",
       "2015-01-05 00:00:00-05:00   964800        0.0             0  \n",
       "2015-01-06 00:00:00-05:00  1009400        0.0             0  \n",
       "2015-01-07 00:00:00-05:00   785200        0.0             0  \n",
       "2015-01-08 00:00:00-05:00  3058400        0.0             0  \n",
       "...                            ...        ...           ...  \n",
       "2022-10-24 00:00:00-04:00   746000        0.0             0  \n",
       "2022-10-25 00:00:00-04:00   651400        0.0             0  \n",
       "2022-10-26 00:00:00-04:00   793400        0.0             0  \n",
       "2022-10-27 00:00:00-04:00   499800        0.2             0  \n",
       "2022-10-28 00:00:00-04:00   709000        0.0             0  \n",
       "\n",
       "[1971 rows x 7 columns]"
      ]
     },
     "execution_count": 5,
     "metadata": {},
     "output_type": "execute_result"
    }
   ],
   "source": [
    "sig_df"
   ]
  },
  {
   "cell_type": "code",
   "execution_count": 6,
   "id": "42655e01",
   "metadata": {},
   "outputs": [
    {
     "data": {
      "text/html": [
       "<div>\n",
       "<style scoped>\n",
       "    .dataframe tbody tr th:only-of-type {\n",
       "        vertical-align: middle;\n",
       "    }\n",
       "\n",
       "    .dataframe tbody tr th {\n",
       "        vertical-align: top;\n",
       "    }\n",
       "\n",
       "    .dataframe thead th {\n",
       "        text-align: right;\n",
       "    }\n",
       "</style>\n",
       "<table border=\"1\" class=\"dataframe\">\n",
       "  <thead>\n",
       "    <tr style=\"text-align: right;\">\n",
       "      <th></th>\n",
       "      <th>Date</th>\n",
       "      <th>Open</th>\n",
       "      <th>High</th>\n",
       "      <th>Low</th>\n",
       "      <th>Close</th>\n",
       "      <th>Volume</th>\n",
       "      <th>Dividends</th>\n",
       "      <th>Stock Splits</th>\n",
       "    </tr>\n",
       "  </thead>\n",
       "  <tbody>\n",
       "    <tr>\n",
       "      <th>0</th>\n",
       "      <td>2015-01-02 00:00:00-05:00</td>\n",
       "      <td>113.292577</td>\n",
       "      <td>113.722106</td>\n",
       "      <td>109.796204</td>\n",
       "      <td>111.514320</td>\n",
       "      <td>578100</td>\n",
       "      <td>0.0</td>\n",
       "      <td>0</td>\n",
       "    </tr>\n",
       "    <tr>\n",
       "      <th>1</th>\n",
       "      <td>2015-01-05 00:00:00-05:00</td>\n",
       "      <td>111.239405</td>\n",
       "      <td>113.292553</td>\n",
       "      <td>109.950812</td>\n",
       "      <td>112.983292</td>\n",
       "      <td>964800</td>\n",
       "      <td>0.0</td>\n",
       "      <td>0</td>\n",
       "    </tr>\n",
       "    <tr>\n",
       "      <th>2</th>\n",
       "      <td>2015-01-06 00:00:00-05:00</td>\n",
       "      <td>113.000490</td>\n",
       "      <td>113.421434</td>\n",
       "      <td>108.155410</td>\n",
       "      <td>110.328819</td>\n",
       "      <td>1009400</td>\n",
       "      <td>0.0</td>\n",
       "      <td>0</td>\n",
       "    </tr>\n",
       "    <tr>\n",
       "      <th>3</th>\n",
       "      <td>2015-01-07 00:00:00-05:00</td>\n",
       "      <td>111.943832</td>\n",
       "      <td>113.387056</td>\n",
       "      <td>111.256583</td>\n",
       "      <td>112.399132</td>\n",
       "      <td>785200</td>\n",
       "      <td>0.0</td>\n",
       "      <td>0</td>\n",
       "    </tr>\n",
       "    <tr>\n",
       "      <th>4</th>\n",
       "      <td>2015-01-08 00:00:00-05:00</td>\n",
       "      <td>105.758628</td>\n",
       "      <td>109.100363</td>\n",
       "      <td>105.346277</td>\n",
       "      <td>108.361572</td>\n",
       "      <td>3058400</td>\n",
       "      <td>0.0</td>\n",
       "      <td>0</td>\n",
       "    </tr>\n",
       "    <tr>\n",
       "      <th>...</th>\n",
       "      <td>...</td>\n",
       "      <td>...</td>\n",
       "      <td>...</td>\n",
       "      <td>...</td>\n",
       "      <td>...</td>\n",
       "      <td>...</td>\n",
       "      <td>...</td>\n",
       "      <td>...</td>\n",
       "    </tr>\n",
       "    <tr>\n",
       "      <th>1966</th>\n",
       "      <td>2022-10-24 00:00:00-04:00</td>\n",
       "      <td>56.376374</td>\n",
       "      <td>58.898609</td>\n",
       "      <td>55.020549</td>\n",
       "      <td>58.669312</td>\n",
       "      <td>746000</td>\n",
       "      <td>0.0</td>\n",
       "      <td>0</td>\n",
       "    </tr>\n",
       "    <tr>\n",
       "      <th>1967</th>\n",
       "      <td>2022-10-25 00:00:00-04:00</td>\n",
       "      <td>58.928516</td>\n",
       "      <td>64.112548</td>\n",
       "      <td>58.928516</td>\n",
       "      <td>63.843380</td>\n",
       "      <td>651400</td>\n",
       "      <td>0.0</td>\n",
       "      <td>0</td>\n",
       "    </tr>\n",
       "    <tr>\n",
       "      <th>1968</th>\n",
       "      <td>2022-10-26 00:00:00-04:00</td>\n",
       "      <td>63.723747</td>\n",
       "      <td>65.777427</td>\n",
       "      <td>62.627126</td>\n",
       "      <td>64.940002</td>\n",
       "      <td>793400</td>\n",
       "      <td>0.0</td>\n",
       "      <td>0</td>\n",
       "    </tr>\n",
       "    <tr>\n",
       "      <th>1969</th>\n",
       "      <td>2022-10-27 00:00:00-04:00</td>\n",
       "      <td>65.820000</td>\n",
       "      <td>67.059998</td>\n",
       "      <td>64.860001</td>\n",
       "      <td>66.199997</td>\n",
       "      <td>499800</td>\n",
       "      <td>0.2</td>\n",
       "      <td>0</td>\n",
       "    </tr>\n",
       "    <tr>\n",
       "      <th>1970</th>\n",
       "      <td>2022-10-28 00:00:00-04:00</td>\n",
       "      <td>66.180000</td>\n",
       "      <td>67.849998</td>\n",
       "      <td>64.010002</td>\n",
       "      <td>67.290001</td>\n",
       "      <td>709000</td>\n",
       "      <td>0.0</td>\n",
       "      <td>0</td>\n",
       "    </tr>\n",
       "  </tbody>\n",
       "</table>\n",
       "<p>1971 rows × 8 columns</p>\n",
       "</div>"
      ],
      "text/plain": [
       "                          Date        Open        High         Low  \\\n",
       "0    2015-01-02 00:00:00-05:00  113.292577  113.722106  109.796204   \n",
       "1    2015-01-05 00:00:00-05:00  111.239405  113.292553  109.950812   \n",
       "2    2015-01-06 00:00:00-05:00  113.000490  113.421434  108.155410   \n",
       "3    2015-01-07 00:00:00-05:00  111.943832  113.387056  111.256583   \n",
       "4    2015-01-08 00:00:00-05:00  105.758628  109.100363  105.346277   \n",
       "...                        ...         ...         ...         ...   \n",
       "1966 2022-10-24 00:00:00-04:00   56.376374   58.898609   55.020549   \n",
       "1967 2022-10-25 00:00:00-04:00   58.928516   64.112548   58.928516   \n",
       "1968 2022-10-26 00:00:00-04:00   63.723747   65.777427   62.627126   \n",
       "1969 2022-10-27 00:00:00-04:00   65.820000   67.059998   64.860001   \n",
       "1970 2022-10-28 00:00:00-04:00   66.180000   67.849998   64.010002   \n",
       "\n",
       "           Close   Volume  Dividends  Stock Splits  \n",
       "0     111.514320   578100        0.0             0  \n",
       "1     112.983292   964800        0.0             0  \n",
       "2     110.328819  1009400        0.0             0  \n",
       "3     112.399132   785200        0.0             0  \n",
       "4     108.361572  3058400        0.0             0  \n",
       "...          ...      ...        ...           ...  \n",
       "1966   58.669312   746000        0.0             0  \n",
       "1967   63.843380   651400        0.0             0  \n",
       "1968   64.940002   793400        0.0             0  \n",
       "1969   66.199997   499800        0.2             0  \n",
       "1970   67.290001   709000        0.0             0  \n",
       "\n",
       "[1971 rows x 8 columns]"
      ]
     },
     "execution_count": 6,
     "metadata": {},
     "output_type": "execute_result"
    }
   ],
   "source": [
    "sig_df = sig_df.reset_index()\n",
    "sig_df"
   ]
  },
  {
   "cell_type": "code",
   "execution_count": 7,
   "id": "b1efd5b6",
   "metadata": {},
   "outputs": [
    {
     "data": {
      "text/html": [
       "<div>\n",
       "<style scoped>\n",
       "    .dataframe tbody tr th:only-of-type {\n",
       "        vertical-align: middle;\n",
       "    }\n",
       "\n",
       "    .dataframe tbody tr th {\n",
       "        vertical-align: top;\n",
       "    }\n",
       "\n",
       "    .dataframe thead th {\n",
       "        text-align: right;\n",
       "    }\n",
       "</style>\n",
       "<table border=\"1\" class=\"dataframe\">\n",
       "  <thead>\n",
       "    <tr style=\"text-align: right;\">\n",
       "      <th></th>\n",
       "      <th>Date</th>\n",
       "      <th>Open</th>\n",
       "      <th>High</th>\n",
       "      <th>Low</th>\n",
       "      <th>Close</th>\n",
       "      <th>Volume</th>\n",
       "      <th>Dividends</th>\n",
       "      <th>Stock Splits</th>\n",
       "    </tr>\n",
       "  </thead>\n",
       "  <tbody>\n",
       "    <tr>\n",
       "      <th>0</th>\n",
       "      <td>2015-01-02</td>\n",
       "      <td>113.292577</td>\n",
       "      <td>113.722106</td>\n",
       "      <td>109.796204</td>\n",
       "      <td>111.514320</td>\n",
       "      <td>578100</td>\n",
       "      <td>0.0</td>\n",
       "      <td>0</td>\n",
       "    </tr>\n",
       "    <tr>\n",
       "      <th>1</th>\n",
       "      <td>2015-01-05</td>\n",
       "      <td>111.239405</td>\n",
       "      <td>113.292553</td>\n",
       "      <td>109.950812</td>\n",
       "      <td>112.983292</td>\n",
       "      <td>964800</td>\n",
       "      <td>0.0</td>\n",
       "      <td>0</td>\n",
       "    </tr>\n",
       "    <tr>\n",
       "      <th>2</th>\n",
       "      <td>2015-01-06</td>\n",
       "      <td>113.000490</td>\n",
       "      <td>113.421434</td>\n",
       "      <td>108.155410</td>\n",
       "      <td>110.328819</td>\n",
       "      <td>1009400</td>\n",
       "      <td>0.0</td>\n",
       "      <td>0</td>\n",
       "    </tr>\n",
       "    <tr>\n",
       "      <th>3</th>\n",
       "      <td>2015-01-07</td>\n",
       "      <td>111.943832</td>\n",
       "      <td>113.387056</td>\n",
       "      <td>111.256583</td>\n",
       "      <td>112.399132</td>\n",
       "      <td>785200</td>\n",
       "      <td>0.0</td>\n",
       "      <td>0</td>\n",
       "    </tr>\n",
       "    <tr>\n",
       "      <th>4</th>\n",
       "      <td>2015-01-08</td>\n",
       "      <td>105.758628</td>\n",
       "      <td>109.100363</td>\n",
       "      <td>105.346277</td>\n",
       "      <td>108.361572</td>\n",
       "      <td>3058400</td>\n",
       "      <td>0.0</td>\n",
       "      <td>0</td>\n",
       "    </tr>\n",
       "    <tr>\n",
       "      <th>...</th>\n",
       "      <td>...</td>\n",
       "      <td>...</td>\n",
       "      <td>...</td>\n",
       "      <td>...</td>\n",
       "      <td>...</td>\n",
       "      <td>...</td>\n",
       "      <td>...</td>\n",
       "      <td>...</td>\n",
       "    </tr>\n",
       "    <tr>\n",
       "      <th>1966</th>\n",
       "      <td>2022-10-24</td>\n",
       "      <td>56.376374</td>\n",
       "      <td>58.898609</td>\n",
       "      <td>55.020549</td>\n",
       "      <td>58.669312</td>\n",
       "      <td>746000</td>\n",
       "      <td>0.0</td>\n",
       "      <td>0</td>\n",
       "    </tr>\n",
       "    <tr>\n",
       "      <th>1967</th>\n",
       "      <td>2022-10-25</td>\n",
       "      <td>58.928516</td>\n",
       "      <td>64.112548</td>\n",
       "      <td>58.928516</td>\n",
       "      <td>63.843380</td>\n",
       "      <td>651400</td>\n",
       "      <td>0.0</td>\n",
       "      <td>0</td>\n",
       "    </tr>\n",
       "    <tr>\n",
       "      <th>1968</th>\n",
       "      <td>2022-10-26</td>\n",
       "      <td>63.723747</td>\n",
       "      <td>65.777427</td>\n",
       "      <td>62.627126</td>\n",
       "      <td>64.940002</td>\n",
       "      <td>793400</td>\n",
       "      <td>0.0</td>\n",
       "      <td>0</td>\n",
       "    </tr>\n",
       "    <tr>\n",
       "      <th>1969</th>\n",
       "      <td>2022-10-27</td>\n",
       "      <td>65.820000</td>\n",
       "      <td>67.059998</td>\n",
       "      <td>64.860001</td>\n",
       "      <td>66.199997</td>\n",
       "      <td>499800</td>\n",
       "      <td>0.2</td>\n",
       "      <td>0</td>\n",
       "    </tr>\n",
       "    <tr>\n",
       "      <th>1970</th>\n",
       "      <td>2022-10-28</td>\n",
       "      <td>66.180000</td>\n",
       "      <td>67.849998</td>\n",
       "      <td>64.010002</td>\n",
       "      <td>67.290001</td>\n",
       "      <td>709000</td>\n",
       "      <td>0.0</td>\n",
       "      <td>0</td>\n",
       "    </tr>\n",
       "  </tbody>\n",
       "</table>\n",
       "<p>1971 rows × 8 columns</p>\n",
       "</div>"
      ],
      "text/plain": [
       "            Date        Open        High         Low       Close   Volume  \\\n",
       "0     2015-01-02  113.292577  113.722106  109.796204  111.514320   578100   \n",
       "1     2015-01-05  111.239405  113.292553  109.950812  112.983292   964800   \n",
       "2     2015-01-06  113.000490  113.421434  108.155410  110.328819  1009400   \n",
       "3     2015-01-07  111.943832  113.387056  111.256583  112.399132   785200   \n",
       "4     2015-01-08  105.758628  109.100363  105.346277  108.361572  3058400   \n",
       "...          ...         ...         ...         ...         ...      ...   \n",
       "1966  2022-10-24   56.376374   58.898609   55.020549   58.669312   746000   \n",
       "1967  2022-10-25   58.928516   64.112548   58.928516   63.843380   651400   \n",
       "1968  2022-10-26   63.723747   65.777427   62.627126   64.940002   793400   \n",
       "1969  2022-10-27   65.820000   67.059998   64.860001   66.199997   499800   \n",
       "1970  2022-10-28   66.180000   67.849998   64.010002   67.290001   709000   \n",
       "\n",
       "      Dividends  Stock Splits  \n",
       "0           0.0             0  \n",
       "1           0.0             0  \n",
       "2           0.0             0  \n",
       "3           0.0             0  \n",
       "4           0.0             0  \n",
       "...         ...           ...  \n",
       "1966        0.0             0  \n",
       "1967        0.0             0  \n",
       "1968        0.0             0  \n",
       "1969        0.2             0  \n",
       "1970        0.0             0  \n",
       "\n",
       "[1971 rows x 8 columns]"
      ]
     },
     "execution_count": 7,
     "metadata": {},
     "output_type": "execute_result"
    }
   ],
   "source": [
    "sig_df['Date'] = pd.to_datetime(sig_df['Date']).dt.date\n",
    "sig_df"
   ]
  },
  {
   "cell_type": "code",
   "execution_count": 8,
   "id": "71ac636b",
   "metadata": {},
   "outputs": [
    {
     "data": {
      "text/html": [
       "<div>\n",
       "<style scoped>\n",
       "    .dataframe tbody tr th:only-of-type {\n",
       "        vertical-align: middle;\n",
       "    }\n",
       "\n",
       "    .dataframe tbody tr th {\n",
       "        vertical-align: top;\n",
       "    }\n",
       "\n",
       "    .dataframe thead th {\n",
       "        text-align: right;\n",
       "    }\n",
       "</style>\n",
       "<table border=\"1\" class=\"dataframe\">\n",
       "  <thead>\n",
       "    <tr style=\"text-align: right;\">\n",
       "      <th></th>\n",
       "      <th>Open</th>\n",
       "      <th>High</th>\n",
       "      <th>Low</th>\n",
       "      <th>Close</th>\n",
       "      <th>Volume</th>\n",
       "      <th>Dividends</th>\n",
       "      <th>Stock Splits</th>\n",
       "    </tr>\n",
       "    <tr>\n",
       "      <th>Date</th>\n",
       "      <th></th>\n",
       "      <th></th>\n",
       "      <th></th>\n",
       "      <th></th>\n",
       "      <th></th>\n",
       "      <th></th>\n",
       "      <th></th>\n",
       "    </tr>\n",
       "  </thead>\n",
       "  <tbody>\n",
       "    <tr>\n",
       "      <th>2015-01-02</th>\n",
       "      <td>113.292577</td>\n",
       "      <td>113.722106</td>\n",
       "      <td>109.796204</td>\n",
       "      <td>111.514320</td>\n",
       "      <td>578100</td>\n",
       "      <td>0.0</td>\n",
       "      <td>0</td>\n",
       "    </tr>\n",
       "    <tr>\n",
       "      <th>2015-01-05</th>\n",
       "      <td>111.239405</td>\n",
       "      <td>113.292553</td>\n",
       "      <td>109.950812</td>\n",
       "      <td>112.983292</td>\n",
       "      <td>964800</td>\n",
       "      <td>0.0</td>\n",
       "      <td>0</td>\n",
       "    </tr>\n",
       "    <tr>\n",
       "      <th>2015-01-06</th>\n",
       "      <td>113.000490</td>\n",
       "      <td>113.421434</td>\n",
       "      <td>108.155410</td>\n",
       "      <td>110.328819</td>\n",
       "      <td>1009400</td>\n",
       "      <td>0.0</td>\n",
       "      <td>0</td>\n",
       "    </tr>\n",
       "    <tr>\n",
       "      <th>2015-01-07</th>\n",
       "      <td>111.943832</td>\n",
       "      <td>113.387056</td>\n",
       "      <td>111.256583</td>\n",
       "      <td>112.399132</td>\n",
       "      <td>785200</td>\n",
       "      <td>0.0</td>\n",
       "      <td>0</td>\n",
       "    </tr>\n",
       "    <tr>\n",
       "      <th>2015-01-08</th>\n",
       "      <td>105.758628</td>\n",
       "      <td>109.100363</td>\n",
       "      <td>105.346277</td>\n",
       "      <td>108.361572</td>\n",
       "      <td>3058400</td>\n",
       "      <td>0.0</td>\n",
       "      <td>0</td>\n",
       "    </tr>\n",
       "    <tr>\n",
       "      <th>...</th>\n",
       "      <td>...</td>\n",
       "      <td>...</td>\n",
       "      <td>...</td>\n",
       "      <td>...</td>\n",
       "      <td>...</td>\n",
       "      <td>...</td>\n",
       "      <td>...</td>\n",
       "    </tr>\n",
       "    <tr>\n",
       "      <th>2022-10-24</th>\n",
       "      <td>56.376374</td>\n",
       "      <td>58.898609</td>\n",
       "      <td>55.020549</td>\n",
       "      <td>58.669312</td>\n",
       "      <td>746000</td>\n",
       "      <td>0.0</td>\n",
       "      <td>0</td>\n",
       "    </tr>\n",
       "    <tr>\n",
       "      <th>2022-10-25</th>\n",
       "      <td>58.928516</td>\n",
       "      <td>64.112548</td>\n",
       "      <td>58.928516</td>\n",
       "      <td>63.843380</td>\n",
       "      <td>651400</td>\n",
       "      <td>0.0</td>\n",
       "      <td>0</td>\n",
       "    </tr>\n",
       "    <tr>\n",
       "      <th>2022-10-26</th>\n",
       "      <td>63.723747</td>\n",
       "      <td>65.777427</td>\n",
       "      <td>62.627126</td>\n",
       "      <td>64.940002</td>\n",
       "      <td>793400</td>\n",
       "      <td>0.0</td>\n",
       "      <td>0</td>\n",
       "    </tr>\n",
       "    <tr>\n",
       "      <th>2022-10-27</th>\n",
       "      <td>65.820000</td>\n",
       "      <td>67.059998</td>\n",
       "      <td>64.860001</td>\n",
       "      <td>66.199997</td>\n",
       "      <td>499800</td>\n",
       "      <td>0.2</td>\n",
       "      <td>0</td>\n",
       "    </tr>\n",
       "    <tr>\n",
       "      <th>2022-10-28</th>\n",
       "      <td>66.180000</td>\n",
       "      <td>67.849998</td>\n",
       "      <td>64.010002</td>\n",
       "      <td>67.290001</td>\n",
       "      <td>709000</td>\n",
       "      <td>0.0</td>\n",
       "      <td>0</td>\n",
       "    </tr>\n",
       "  </tbody>\n",
       "</table>\n",
       "<p>1971 rows × 7 columns</p>\n",
       "</div>"
      ],
      "text/plain": [
       "                  Open        High         Low       Close   Volume  \\\n",
       "Date                                                                  \n",
       "2015-01-02  113.292577  113.722106  109.796204  111.514320   578100   \n",
       "2015-01-05  111.239405  113.292553  109.950812  112.983292   964800   \n",
       "2015-01-06  113.000490  113.421434  108.155410  110.328819  1009400   \n",
       "2015-01-07  111.943832  113.387056  111.256583  112.399132   785200   \n",
       "2015-01-08  105.758628  109.100363  105.346277  108.361572  3058400   \n",
       "...                ...         ...         ...         ...      ...   \n",
       "2022-10-24   56.376374   58.898609   55.020549   58.669312   746000   \n",
       "2022-10-25   58.928516   64.112548   58.928516   63.843380   651400   \n",
       "2022-10-26   63.723747   65.777427   62.627126   64.940002   793400   \n",
       "2022-10-27   65.820000   67.059998   64.860001   66.199997   499800   \n",
       "2022-10-28   66.180000   67.849998   64.010002   67.290001   709000   \n",
       "\n",
       "            Dividends  Stock Splits  \n",
       "Date                                 \n",
       "2015-01-02        0.0             0  \n",
       "2015-01-05        0.0             0  \n",
       "2015-01-06        0.0             0  \n",
       "2015-01-07        0.0             0  \n",
       "2015-01-08        0.0             0  \n",
       "...               ...           ...  \n",
       "2022-10-24        0.0             0  \n",
       "2022-10-25        0.0             0  \n",
       "2022-10-26        0.0             0  \n",
       "2022-10-27        0.2             0  \n",
       "2022-10-28        0.0             0  \n",
       "\n",
       "[1971 rows x 7 columns]"
      ]
     },
     "execution_count": 8,
     "metadata": {},
     "output_type": "execute_result"
    }
   ],
   "source": [
    "sig_df = sig_df.set_index('Date')\n",
    "sig_df"
   ]
  },
  {
   "cell_type": "code",
   "execution_count": 9,
   "id": "7d12741f",
   "metadata": {},
   "outputs": [
    {
     "data": {
      "text/plain": [
       "Open            float64\n",
       "High            float64\n",
       "Low             float64\n",
       "Close           float64\n",
       "Volume            int64\n",
       "Dividends       float64\n",
       "Stock Splits      int64\n",
       "dtype: object"
      ]
     },
     "execution_count": 9,
     "metadata": {},
     "output_type": "execute_result"
    }
   ],
   "source": [
    "sig_df.dtypes"
   ]
  },
  {
   "cell_type": "code",
   "execution_count": 10,
   "id": "22b76c4e",
   "metadata": {},
   "outputs": [
    {
     "data": {
      "text/plain": [
       "Open            0.0\n",
       "High            0.0\n",
       "Low             0.0\n",
       "Close           0.0\n",
       "Volume          0.0\n",
       "Dividends       0.0\n",
       "Stock Splits    0.0\n",
       "dtype: float64"
      ]
     },
     "execution_count": 10,
     "metadata": {},
     "output_type": "execute_result"
    }
   ],
   "source": [
    "sig_df.isnull().sum()/len(sig_df)"
   ]
  },
  {
   "cell_type": "code",
   "execution_count": 11,
   "id": "c5a0459a",
   "metadata": {},
   "outputs": [
    {
     "data": {
      "text/plain": [
       "Open            float64\n",
       "High            float64\n",
       "Low             float64\n",
       "Close           float64\n",
       "Volume            int64\n",
       "Dividends       float64\n",
       "Stock Splits      int64\n",
       "dtype: object"
      ]
     },
     "execution_count": 11,
     "metadata": {},
     "output_type": "execute_result"
    }
   ],
   "source": [
    "sig_df.dtypes"
   ]
  },
  {
   "cell_type": "code",
   "execution_count": 12,
   "id": "6dacee80",
   "metadata": {},
   "outputs": [
    {
     "data": {
      "text/html": [
       "<div>\n",
       "<style scoped>\n",
       "    .dataframe tbody tr th:only-of-type {\n",
       "        vertical-align: middle;\n",
       "    }\n",
       "\n",
       "    .dataframe tbody tr th {\n",
       "        vertical-align: top;\n",
       "    }\n",
       "\n",
       "    .dataframe thead th {\n",
       "        text-align: right;\n",
       "    }\n",
       "</style>\n",
       "<table border=\"1\" class=\"dataframe\">\n",
       "  <thead>\n",
       "    <tr style=\"text-align: right;\">\n",
       "      <th></th>\n",
       "      <th>Open</th>\n",
       "      <th>High</th>\n",
       "      <th>Low</th>\n",
       "      <th>Close</th>\n",
       "      <th>Volume</th>\n",
       "      <th>Dividends</th>\n",
       "      <th>Stock Splits</th>\n",
       "    </tr>\n",
       "    <tr>\n",
       "      <th>Date</th>\n",
       "      <th></th>\n",
       "      <th></th>\n",
       "      <th></th>\n",
       "      <th></th>\n",
       "      <th></th>\n",
       "      <th></th>\n",
       "      <th></th>\n",
       "    </tr>\n",
       "  </thead>\n",
       "  <tbody>\n",
       "    <tr>\n",
       "      <th>2015-01-02 00:00:00-05:00</th>\n",
       "      <td>24.104358</td>\n",
       "      <td>24.349030</td>\n",
       "      <td>23.201605</td>\n",
       "      <td>23.615015</td>\n",
       "      <td>128500</td>\n",
       "      <td>0.0</td>\n",
       "      <td>0</td>\n",
       "    </tr>\n",
       "    <tr>\n",
       "      <th>2015-01-05 00:00:00-05:00</th>\n",
       "      <td>23.446274</td>\n",
       "      <td>23.927179</td>\n",
       "      <td>23.302846</td>\n",
       "      <td>23.429399</td>\n",
       "      <td>157700</td>\n",
       "      <td>0.0</td>\n",
       "      <td>0</td>\n",
       "    </tr>\n",
       "    <tr>\n",
       "      <th>2015-01-06 00:00:00-05:00</th>\n",
       "      <td>23.589703</td>\n",
       "      <td>23.724696</td>\n",
       "      <td>22.805069</td>\n",
       "      <td>23.024429</td>\n",
       "      <td>225400</td>\n",
       "      <td>0.0</td>\n",
       "      <td>0</td>\n",
       "    </tr>\n",
       "    <tr>\n",
       "      <th>2015-01-07 00:00:00-05:00</th>\n",
       "      <td>23.218479</td>\n",
       "      <td>23.378780</td>\n",
       "      <td>22.821942</td>\n",
       "      <td>23.201605</td>\n",
       "      <td>154100</td>\n",
       "      <td>0.0</td>\n",
       "      <td>0</td>\n",
       "    </tr>\n",
       "    <tr>\n",
       "      <th>2015-01-08 00:00:00-05:00</th>\n",
       "      <td>23.404091</td>\n",
       "      <td>23.952492</td>\n",
       "      <td>23.243789</td>\n",
       "      <td>23.868124</td>\n",
       "      <td>281000</td>\n",
       "      <td>0.0</td>\n",
       "      <td>0</td>\n",
       "    </tr>\n",
       "    <tr>\n",
       "      <th>...</th>\n",
       "      <td>...</td>\n",
       "      <td>...</td>\n",
       "      <td>...</td>\n",
       "      <td>...</td>\n",
       "      <td>...</td>\n",
       "      <td>...</td>\n",
       "      <td>...</td>\n",
       "    </tr>\n",
       "    <tr>\n",
       "      <th>2022-10-24 00:00:00-04:00</th>\n",
       "      <td>31.350000</td>\n",
       "      <td>31.830000</td>\n",
       "      <td>30.760000</td>\n",
       "      <td>31.620001</td>\n",
       "      <td>81700</td>\n",
       "      <td>0.0</td>\n",
       "      <td>0</td>\n",
       "    </tr>\n",
       "    <tr>\n",
       "      <th>2022-10-25 00:00:00-04:00</th>\n",
       "      <td>31.520000</td>\n",
       "      <td>33.299999</td>\n",
       "      <td>31.520000</td>\n",
       "      <td>32.990002</td>\n",
       "      <td>139200</td>\n",
       "      <td>0.0</td>\n",
       "      <td>0</td>\n",
       "    </tr>\n",
       "    <tr>\n",
       "      <th>2022-10-26 00:00:00-04:00</th>\n",
       "      <td>33.110001</td>\n",
       "      <td>33.650002</td>\n",
       "      <td>32.630001</td>\n",
       "      <td>32.939999</td>\n",
       "      <td>106100</td>\n",
       "      <td>0.0</td>\n",
       "      <td>0</td>\n",
       "    </tr>\n",
       "    <tr>\n",
       "      <th>2022-10-27 00:00:00-04:00</th>\n",
       "      <td>33.259998</td>\n",
       "      <td>33.360001</td>\n",
       "      <td>32.480000</td>\n",
       "      <td>32.540001</td>\n",
       "      <td>62600</td>\n",
       "      <td>0.0</td>\n",
       "      <td>0</td>\n",
       "    </tr>\n",
       "    <tr>\n",
       "      <th>2022-10-28 00:00:00-04:00</th>\n",
       "      <td>32.540001</td>\n",
       "      <td>33.340000</td>\n",
       "      <td>31.969999</td>\n",
       "      <td>33.169998</td>\n",
       "      <td>101600</td>\n",
       "      <td>0.0</td>\n",
       "      <td>0</td>\n",
       "    </tr>\n",
       "  </tbody>\n",
       "</table>\n",
       "<p>1971 rows × 7 columns</p>\n",
       "</div>"
      ],
      "text/plain": [
       "                                Open       High        Low      Close  Volume  \\\n",
       "Date                                                                            \n",
       "2015-01-02 00:00:00-05:00  24.104358  24.349030  23.201605  23.615015  128500   \n",
       "2015-01-05 00:00:00-05:00  23.446274  23.927179  23.302846  23.429399  157700   \n",
       "2015-01-06 00:00:00-05:00  23.589703  23.724696  22.805069  23.024429  225400   \n",
       "2015-01-07 00:00:00-05:00  23.218479  23.378780  22.821942  23.201605  154100   \n",
       "2015-01-08 00:00:00-05:00  23.404091  23.952492  23.243789  23.868124  281000   \n",
       "...                              ...        ...        ...        ...     ...   \n",
       "2022-10-24 00:00:00-04:00  31.350000  31.830000  30.760000  31.620001   81700   \n",
       "2022-10-25 00:00:00-04:00  31.520000  33.299999  31.520000  32.990002  139200   \n",
       "2022-10-26 00:00:00-04:00  33.110001  33.650002  32.630001  32.939999  106100   \n",
       "2022-10-27 00:00:00-04:00  33.259998  33.360001  32.480000  32.540001   62600   \n",
       "2022-10-28 00:00:00-04:00  32.540001  33.340000  31.969999  33.169998  101600   \n",
       "\n",
       "                           Dividends  Stock Splits  \n",
       "Date                                                \n",
       "2015-01-02 00:00:00-05:00        0.0             0  \n",
       "2015-01-05 00:00:00-05:00        0.0             0  \n",
       "2015-01-06 00:00:00-05:00        0.0             0  \n",
       "2015-01-07 00:00:00-05:00        0.0             0  \n",
       "2015-01-08 00:00:00-05:00        0.0             0  \n",
       "...                              ...           ...  \n",
       "2022-10-24 00:00:00-04:00        0.0             0  \n",
       "2022-10-25 00:00:00-04:00        0.0             0  \n",
       "2022-10-26 00:00:00-04:00        0.0             0  \n",
       "2022-10-27 00:00:00-04:00        0.0             0  \n",
       "2022-10-28 00:00:00-04:00        0.0             0  \n",
       "\n",
       "[1971 rows x 7 columns]"
      ]
     },
     "execution_count": 12,
     "metadata": {},
     "output_type": "execute_result"
    }
   ],
   "source": [
    "mov_df"
   ]
  },
  {
   "cell_type": "code",
   "execution_count": 13,
   "id": "d53db94e",
   "metadata": {},
   "outputs": [
    {
     "data": {
      "text/html": [
       "<div>\n",
       "<style scoped>\n",
       "    .dataframe tbody tr th:only-of-type {\n",
       "        vertical-align: middle;\n",
       "    }\n",
       "\n",
       "    .dataframe tbody tr th {\n",
       "        vertical-align: top;\n",
       "    }\n",
       "\n",
       "    .dataframe thead th {\n",
       "        text-align: right;\n",
       "    }\n",
       "</style>\n",
       "<table border=\"1\" class=\"dataframe\">\n",
       "  <thead>\n",
       "    <tr style=\"text-align: right;\">\n",
       "      <th></th>\n",
       "      <th>Open</th>\n",
       "      <th>High</th>\n",
       "      <th>Low</th>\n",
       "      <th>Close</th>\n",
       "      <th>Volume</th>\n",
       "      <th>Dividends</th>\n",
       "      <th>Stock Splits</th>\n",
       "    </tr>\n",
       "    <tr>\n",
       "      <th>Date</th>\n",
       "      <th></th>\n",
       "      <th></th>\n",
       "      <th></th>\n",
       "      <th></th>\n",
       "      <th></th>\n",
       "      <th></th>\n",
       "      <th></th>\n",
       "    </tr>\n",
       "  </thead>\n",
       "  <tbody>\n",
       "    <tr>\n",
       "      <th>2015-01-02</th>\n",
       "      <td>24.104358</td>\n",
       "      <td>24.349030</td>\n",
       "      <td>23.201605</td>\n",
       "      <td>23.615015</td>\n",
       "      <td>128500</td>\n",
       "      <td>0.0</td>\n",
       "      <td>0</td>\n",
       "    </tr>\n",
       "    <tr>\n",
       "      <th>2015-01-05</th>\n",
       "      <td>23.446274</td>\n",
       "      <td>23.927179</td>\n",
       "      <td>23.302846</td>\n",
       "      <td>23.429399</td>\n",
       "      <td>157700</td>\n",
       "      <td>0.0</td>\n",
       "      <td>0</td>\n",
       "    </tr>\n",
       "    <tr>\n",
       "      <th>2015-01-06</th>\n",
       "      <td>23.589703</td>\n",
       "      <td>23.724696</td>\n",
       "      <td>22.805069</td>\n",
       "      <td>23.024429</td>\n",
       "      <td>225400</td>\n",
       "      <td>0.0</td>\n",
       "      <td>0</td>\n",
       "    </tr>\n",
       "    <tr>\n",
       "      <th>2015-01-07</th>\n",
       "      <td>23.218479</td>\n",
       "      <td>23.378780</td>\n",
       "      <td>22.821942</td>\n",
       "      <td>23.201605</td>\n",
       "      <td>154100</td>\n",
       "      <td>0.0</td>\n",
       "      <td>0</td>\n",
       "    </tr>\n",
       "    <tr>\n",
       "      <th>2015-01-08</th>\n",
       "      <td>23.404091</td>\n",
       "      <td>23.952492</td>\n",
       "      <td>23.243789</td>\n",
       "      <td>23.868124</td>\n",
       "      <td>281000</td>\n",
       "      <td>0.0</td>\n",
       "      <td>0</td>\n",
       "    </tr>\n",
       "    <tr>\n",
       "      <th>...</th>\n",
       "      <td>...</td>\n",
       "      <td>...</td>\n",
       "      <td>...</td>\n",
       "      <td>...</td>\n",
       "      <td>...</td>\n",
       "      <td>...</td>\n",
       "      <td>...</td>\n",
       "    </tr>\n",
       "    <tr>\n",
       "      <th>2022-10-24</th>\n",
       "      <td>31.350000</td>\n",
       "      <td>31.830000</td>\n",
       "      <td>30.760000</td>\n",
       "      <td>31.620001</td>\n",
       "      <td>81700</td>\n",
       "      <td>0.0</td>\n",
       "      <td>0</td>\n",
       "    </tr>\n",
       "    <tr>\n",
       "      <th>2022-10-25</th>\n",
       "      <td>31.520000</td>\n",
       "      <td>33.299999</td>\n",
       "      <td>31.520000</td>\n",
       "      <td>32.990002</td>\n",
       "      <td>139200</td>\n",
       "      <td>0.0</td>\n",
       "      <td>0</td>\n",
       "    </tr>\n",
       "    <tr>\n",
       "      <th>2022-10-26</th>\n",
       "      <td>33.110001</td>\n",
       "      <td>33.650002</td>\n",
       "      <td>32.630001</td>\n",
       "      <td>32.939999</td>\n",
       "      <td>106100</td>\n",
       "      <td>0.0</td>\n",
       "      <td>0</td>\n",
       "    </tr>\n",
       "    <tr>\n",
       "      <th>2022-10-27</th>\n",
       "      <td>33.259998</td>\n",
       "      <td>33.360001</td>\n",
       "      <td>32.480000</td>\n",
       "      <td>32.540001</td>\n",
       "      <td>62600</td>\n",
       "      <td>0.0</td>\n",
       "      <td>0</td>\n",
       "    </tr>\n",
       "    <tr>\n",
       "      <th>2022-10-28</th>\n",
       "      <td>32.540001</td>\n",
       "      <td>33.340000</td>\n",
       "      <td>31.969999</td>\n",
       "      <td>33.169998</td>\n",
       "      <td>101600</td>\n",
       "      <td>0.0</td>\n",
       "      <td>0</td>\n",
       "    </tr>\n",
       "  </tbody>\n",
       "</table>\n",
       "<p>1971 rows × 7 columns</p>\n",
       "</div>"
      ],
      "text/plain": [
       "                 Open       High        Low      Close  Volume  Dividends  \\\n",
       "Date                                                                        \n",
       "2015-01-02  24.104358  24.349030  23.201605  23.615015  128500        0.0   \n",
       "2015-01-05  23.446274  23.927179  23.302846  23.429399  157700        0.0   \n",
       "2015-01-06  23.589703  23.724696  22.805069  23.024429  225400        0.0   \n",
       "2015-01-07  23.218479  23.378780  22.821942  23.201605  154100        0.0   \n",
       "2015-01-08  23.404091  23.952492  23.243789  23.868124  281000        0.0   \n",
       "...               ...        ...        ...        ...     ...        ...   \n",
       "2022-10-24  31.350000  31.830000  30.760000  31.620001   81700        0.0   \n",
       "2022-10-25  31.520000  33.299999  31.520000  32.990002  139200        0.0   \n",
       "2022-10-26  33.110001  33.650002  32.630001  32.939999  106100        0.0   \n",
       "2022-10-27  33.259998  33.360001  32.480000  32.540001   62600        0.0   \n",
       "2022-10-28  32.540001  33.340000  31.969999  33.169998  101600        0.0   \n",
       "\n",
       "            Stock Splits  \n",
       "Date                      \n",
       "2015-01-02             0  \n",
       "2015-01-05             0  \n",
       "2015-01-06             0  \n",
       "2015-01-07             0  \n",
       "2015-01-08             0  \n",
       "...                  ...  \n",
       "2022-10-24             0  \n",
       "2022-10-25             0  \n",
       "2022-10-26             0  \n",
       "2022-10-27             0  \n",
       "2022-10-28             0  \n",
       "\n",
       "[1971 rows x 7 columns]"
      ]
     },
     "execution_count": 13,
     "metadata": {},
     "output_type": "execute_result"
    }
   ],
   "source": [
    "mov_df = mov_df.reset_index()\n",
    "mov_df['Date'] = pd.to_datetime(mov_df['Date']).dt.date\n",
    "mov_df = mov_df.set_index('Date')\n",
    "mov_df"
   ]
  },
  {
   "cell_type": "code",
   "execution_count": 14,
   "id": "47de17ee",
   "metadata": {},
   "outputs": [
    {
     "data": {
      "text/plain": [
       "Open            0.0\n",
       "High            0.0\n",
       "Low             0.0\n",
       "Close           0.0\n",
       "Volume          0.0\n",
       "Dividends       0.0\n",
       "Stock Splits    0.0\n",
       "dtype: float64"
      ]
     },
     "execution_count": 14,
     "metadata": {},
     "output_type": "execute_result"
    }
   ],
   "source": [
    "mov_df.isnull().sum()/len(mov_df)"
   ]
  },
  {
   "cell_type": "code",
   "execution_count": 15,
   "id": "837c12b6",
   "metadata": {},
   "outputs": [
    {
     "data": {
      "text/html": [
       "<div>\n",
       "<style scoped>\n",
       "    .dataframe tbody tr th:only-of-type {\n",
       "        vertical-align: middle;\n",
       "    }\n",
       "\n",
       "    .dataframe tbody tr th {\n",
       "        vertical-align: top;\n",
       "    }\n",
       "\n",
       "    .dataframe thead th {\n",
       "        text-align: right;\n",
       "    }\n",
       "</style>\n",
       "<table border=\"1\" class=\"dataframe\">\n",
       "  <thead>\n",
       "    <tr style=\"text-align: right;\">\n",
       "      <th></th>\n",
       "      <th>Open</th>\n",
       "      <th>High</th>\n",
       "      <th>Low</th>\n",
       "      <th>Close</th>\n",
       "      <th>Volume</th>\n",
       "      <th>Dividends</th>\n",
       "      <th>Stock Splits</th>\n",
       "    </tr>\n",
       "    <tr>\n",
       "      <th>Date</th>\n",
       "      <th></th>\n",
       "      <th></th>\n",
       "      <th></th>\n",
       "      <th></th>\n",
       "      <th></th>\n",
       "      <th></th>\n",
       "      <th></th>\n",
       "    </tr>\n",
       "  </thead>\n",
       "  <tbody>\n",
       "    <tr>\n",
       "      <th>2015-01-02 00:00:00-05:00</th>\n",
       "      <td>15.722467</td>\n",
       "      <td>15.737769</td>\n",
       "      <td>15.645960</td>\n",
       "      <td>15.699515</td>\n",
       "      <td>13500</td>\n",
       "      <td>0.0</td>\n",
       "      <td>0</td>\n",
       "    </tr>\n",
       "    <tr>\n",
       "      <th>2015-01-05 00:00:00-05:00</th>\n",
       "      <td>15.538845</td>\n",
       "      <td>15.554147</td>\n",
       "      <td>15.378178</td>\n",
       "      <td>15.485290</td>\n",
       "      <td>18200</td>\n",
       "      <td>0.0</td>\n",
       "      <td>0</td>\n",
       "    </tr>\n",
       "    <tr>\n",
       "      <th>2015-01-06 00:00:00-05:00</th>\n",
       "      <td>15.294020</td>\n",
       "      <td>15.355226</td>\n",
       "      <td>15.179257</td>\n",
       "      <td>15.209860</td>\n",
       "      <td>8300</td>\n",
       "      <td>0.0</td>\n",
       "      <td>0</td>\n",
       "    </tr>\n",
       "    <tr>\n",
       "      <th>2015-01-07 00:00:00-05:00</th>\n",
       "      <td>15.102749</td>\n",
       "      <td>15.141004</td>\n",
       "      <td>14.926780</td>\n",
       "      <td>15.072146</td>\n",
       "      <td>9300</td>\n",
       "      <td>0.0</td>\n",
       "      <td>0</td>\n",
       "    </tr>\n",
       "    <tr>\n",
       "      <th>2015-01-08 00:00:00-05:00</th>\n",
       "      <td>13.916869</td>\n",
       "      <td>14.360617</td>\n",
       "      <td>13.519025</td>\n",
       "      <td>14.345315</td>\n",
       "      <td>11400</td>\n",
       "      <td>0.0</td>\n",
       "      <td>0</td>\n",
       "    </tr>\n",
       "    <tr>\n",
       "      <th>...</th>\n",
       "      <td>...</td>\n",
       "      <td>...</td>\n",
       "      <td>...</td>\n",
       "      <td>...</td>\n",
       "      <td>...</td>\n",
       "      <td>...</td>\n",
       "      <td>...</td>\n",
       "    </tr>\n",
       "    <tr>\n",
       "      <th>2022-10-24 00:00:00-04:00</th>\n",
       "      <td>13.140000</td>\n",
       "      <td>13.170000</td>\n",
       "      <td>12.960000</td>\n",
       "      <td>13.160000</td>\n",
       "      <td>40000</td>\n",
       "      <td>0.0</td>\n",
       "      <td>0</td>\n",
       "    </tr>\n",
       "    <tr>\n",
       "      <th>2022-10-25 00:00:00-04:00</th>\n",
       "      <td>13.330000</td>\n",
       "      <td>13.750000</td>\n",
       "      <td>13.330000</td>\n",
       "      <td>13.710000</td>\n",
       "      <td>38800</td>\n",
       "      <td>0.0</td>\n",
       "      <td>0</td>\n",
       "    </tr>\n",
       "    <tr>\n",
       "      <th>2022-10-26 00:00:00-04:00</th>\n",
       "      <td>13.990000</td>\n",
       "      <td>14.250000</td>\n",
       "      <td>13.990000</td>\n",
       "      <td>14.220000</td>\n",
       "      <td>10500</td>\n",
       "      <td>0.0</td>\n",
       "      <td>0</td>\n",
       "    </tr>\n",
       "    <tr>\n",
       "      <th>2022-10-27 00:00:00-04:00</th>\n",
       "      <td>13.930000</td>\n",
       "      <td>14.180000</td>\n",
       "      <td>13.750000</td>\n",
       "      <td>13.900000</td>\n",
       "      <td>21600</td>\n",
       "      <td>0.0</td>\n",
       "      <td>0</td>\n",
       "    </tr>\n",
       "    <tr>\n",
       "      <th>2022-10-28 00:00:00-04:00</th>\n",
       "      <td>13.610000</td>\n",
       "      <td>13.720000</td>\n",
       "      <td>13.550000</td>\n",
       "      <td>13.720000</td>\n",
       "      <td>17900</td>\n",
       "      <td>0.0</td>\n",
       "      <td>0</td>\n",
       "    </tr>\n",
       "  </tbody>\n",
       "</table>\n",
       "<p>1971 rows × 7 columns</p>\n",
       "</div>"
      ],
      "text/plain": [
       "                                Open       High        Low      Close  Volume  \\\n",
       "Date                                                                            \n",
       "2015-01-02 00:00:00-05:00  15.722467  15.737769  15.645960  15.699515   13500   \n",
       "2015-01-05 00:00:00-05:00  15.538845  15.554147  15.378178  15.485290   18200   \n",
       "2015-01-06 00:00:00-05:00  15.294020  15.355226  15.179257  15.209860    8300   \n",
       "2015-01-07 00:00:00-05:00  15.102749  15.141004  14.926780  15.072146    9300   \n",
       "2015-01-08 00:00:00-05:00  13.916869  14.360617  13.519025  14.345315   11400   \n",
       "...                              ...        ...        ...        ...     ...   \n",
       "2022-10-24 00:00:00-04:00  13.140000  13.170000  12.960000  13.160000   40000   \n",
       "2022-10-25 00:00:00-04:00  13.330000  13.750000  13.330000  13.710000   38800   \n",
       "2022-10-26 00:00:00-04:00  13.990000  14.250000  13.990000  14.220000   10500   \n",
       "2022-10-27 00:00:00-04:00  13.930000  14.180000  13.750000  13.900000   21600   \n",
       "2022-10-28 00:00:00-04:00  13.610000  13.720000  13.550000  13.720000   17900   \n",
       "\n",
       "                           Dividends  Stock Splits  \n",
       "Date                                                \n",
       "2015-01-02 00:00:00-05:00        0.0             0  \n",
       "2015-01-05 00:00:00-05:00        0.0             0  \n",
       "2015-01-06 00:00:00-05:00        0.0             0  \n",
       "2015-01-07 00:00:00-05:00        0.0             0  \n",
       "2015-01-08 00:00:00-05:00        0.0             0  \n",
       "...                              ...           ...  \n",
       "2022-10-24 00:00:00-04:00        0.0             0  \n",
       "2022-10-25 00:00:00-04:00        0.0             0  \n",
       "2022-10-26 00:00:00-04:00        0.0             0  \n",
       "2022-10-27 00:00:00-04:00        0.0             0  \n",
       "2022-10-28 00:00:00-04:00        0.0             0  \n",
       "\n",
       "[1971 rows x 7 columns]"
      ]
     },
     "execution_count": 15,
     "metadata": {},
     "output_type": "execute_result"
    }
   ],
   "source": [
    "pan_df"
   ]
  },
  {
   "cell_type": "code",
   "execution_count": 16,
   "id": "81d0a71f",
   "metadata": {},
   "outputs": [
    {
     "data": {
      "text/html": [
       "<div>\n",
       "<style scoped>\n",
       "    .dataframe tbody tr th:only-of-type {\n",
       "        vertical-align: middle;\n",
       "    }\n",
       "\n",
       "    .dataframe tbody tr th {\n",
       "        vertical-align: top;\n",
       "    }\n",
       "\n",
       "    .dataframe thead th {\n",
       "        text-align: right;\n",
       "    }\n",
       "</style>\n",
       "<table border=\"1\" class=\"dataframe\">\n",
       "  <thead>\n",
       "    <tr style=\"text-align: right;\">\n",
       "      <th></th>\n",
       "      <th>Open</th>\n",
       "      <th>High</th>\n",
       "      <th>Low</th>\n",
       "      <th>Close</th>\n",
       "      <th>Volume</th>\n",
       "      <th>Dividends</th>\n",
       "      <th>Stock Splits</th>\n",
       "    </tr>\n",
       "    <tr>\n",
       "      <th>Date</th>\n",
       "      <th></th>\n",
       "      <th></th>\n",
       "      <th></th>\n",
       "      <th></th>\n",
       "      <th></th>\n",
       "      <th></th>\n",
       "      <th></th>\n",
       "    </tr>\n",
       "  </thead>\n",
       "  <tbody>\n",
       "    <tr>\n",
       "      <th>2015-01-02</th>\n",
       "      <td>15.722467</td>\n",
       "      <td>15.737769</td>\n",
       "      <td>15.645960</td>\n",
       "      <td>15.699515</td>\n",
       "      <td>13500</td>\n",
       "      <td>0.0</td>\n",
       "      <td>0</td>\n",
       "    </tr>\n",
       "    <tr>\n",
       "      <th>2015-01-05</th>\n",
       "      <td>15.538845</td>\n",
       "      <td>15.554147</td>\n",
       "      <td>15.378178</td>\n",
       "      <td>15.485290</td>\n",
       "      <td>18200</td>\n",
       "      <td>0.0</td>\n",
       "      <td>0</td>\n",
       "    </tr>\n",
       "    <tr>\n",
       "      <th>2015-01-06</th>\n",
       "      <td>15.294020</td>\n",
       "      <td>15.355226</td>\n",
       "      <td>15.179257</td>\n",
       "      <td>15.209860</td>\n",
       "      <td>8300</td>\n",
       "      <td>0.0</td>\n",
       "      <td>0</td>\n",
       "    </tr>\n",
       "    <tr>\n",
       "      <th>2015-01-07</th>\n",
       "      <td>15.102749</td>\n",
       "      <td>15.141004</td>\n",
       "      <td>14.926780</td>\n",
       "      <td>15.072146</td>\n",
       "      <td>9300</td>\n",
       "      <td>0.0</td>\n",
       "      <td>0</td>\n",
       "    </tr>\n",
       "    <tr>\n",
       "      <th>2015-01-08</th>\n",
       "      <td>13.916869</td>\n",
       "      <td>14.360617</td>\n",
       "      <td>13.519025</td>\n",
       "      <td>14.345315</td>\n",
       "      <td>11400</td>\n",
       "      <td>0.0</td>\n",
       "      <td>0</td>\n",
       "    </tr>\n",
       "    <tr>\n",
       "      <th>...</th>\n",
       "      <td>...</td>\n",
       "      <td>...</td>\n",
       "      <td>...</td>\n",
       "      <td>...</td>\n",
       "      <td>...</td>\n",
       "      <td>...</td>\n",
       "      <td>...</td>\n",
       "    </tr>\n",
       "    <tr>\n",
       "      <th>2022-10-24</th>\n",
       "      <td>13.140000</td>\n",
       "      <td>13.170000</td>\n",
       "      <td>12.960000</td>\n",
       "      <td>13.160000</td>\n",
       "      <td>40000</td>\n",
       "      <td>0.0</td>\n",
       "      <td>0</td>\n",
       "    </tr>\n",
       "    <tr>\n",
       "      <th>2022-10-25</th>\n",
       "      <td>13.330000</td>\n",
       "      <td>13.750000</td>\n",
       "      <td>13.330000</td>\n",
       "      <td>13.710000</td>\n",
       "      <td>38800</td>\n",
       "      <td>0.0</td>\n",
       "      <td>0</td>\n",
       "    </tr>\n",
       "    <tr>\n",
       "      <th>2022-10-26</th>\n",
       "      <td>13.990000</td>\n",
       "      <td>14.250000</td>\n",
       "      <td>13.990000</td>\n",
       "      <td>14.220000</td>\n",
       "      <td>10500</td>\n",
       "      <td>0.0</td>\n",
       "      <td>0</td>\n",
       "    </tr>\n",
       "    <tr>\n",
       "      <th>2022-10-27</th>\n",
       "      <td>13.930000</td>\n",
       "      <td>14.180000</td>\n",
       "      <td>13.750000</td>\n",
       "      <td>13.900000</td>\n",
       "      <td>21600</td>\n",
       "      <td>0.0</td>\n",
       "      <td>0</td>\n",
       "    </tr>\n",
       "    <tr>\n",
       "      <th>2022-10-28</th>\n",
       "      <td>13.610000</td>\n",
       "      <td>13.720000</td>\n",
       "      <td>13.550000</td>\n",
       "      <td>13.720000</td>\n",
       "      <td>17900</td>\n",
       "      <td>0.0</td>\n",
       "      <td>0</td>\n",
       "    </tr>\n",
       "  </tbody>\n",
       "</table>\n",
       "<p>1971 rows × 7 columns</p>\n",
       "</div>"
      ],
      "text/plain": [
       "                 Open       High        Low      Close  Volume  Dividends  \\\n",
       "Date                                                                        \n",
       "2015-01-02  15.722467  15.737769  15.645960  15.699515   13500        0.0   \n",
       "2015-01-05  15.538845  15.554147  15.378178  15.485290   18200        0.0   \n",
       "2015-01-06  15.294020  15.355226  15.179257  15.209860    8300        0.0   \n",
       "2015-01-07  15.102749  15.141004  14.926780  15.072146    9300        0.0   \n",
       "2015-01-08  13.916869  14.360617  13.519025  14.345315   11400        0.0   \n",
       "...               ...        ...        ...        ...     ...        ...   \n",
       "2022-10-24  13.140000  13.170000  12.960000  13.160000   40000        0.0   \n",
       "2022-10-25  13.330000  13.750000  13.330000  13.710000   38800        0.0   \n",
       "2022-10-26  13.990000  14.250000  13.990000  14.220000   10500        0.0   \n",
       "2022-10-27  13.930000  14.180000  13.750000  13.900000   21600        0.0   \n",
       "2022-10-28  13.610000  13.720000  13.550000  13.720000   17900        0.0   \n",
       "\n",
       "            Stock Splits  \n",
       "Date                      \n",
       "2015-01-02             0  \n",
       "2015-01-05             0  \n",
       "2015-01-06             0  \n",
       "2015-01-07             0  \n",
       "2015-01-08             0  \n",
       "...                  ...  \n",
       "2022-10-24             0  \n",
       "2022-10-25             0  \n",
       "2022-10-26             0  \n",
       "2022-10-27             0  \n",
       "2022-10-28             0  \n",
       "\n",
       "[1971 rows x 7 columns]"
      ]
     },
     "execution_count": 16,
     "metadata": {},
     "output_type": "execute_result"
    }
   ],
   "source": [
    "pan_df = pan_df.reset_index()\n",
    "pan_df['Date'] = pd.to_datetime(pan_df['Date']).dt.date\n",
    "pan_df = pan_df.set_index('Date')\n",
    "pan_df"
   ]
  },
  {
   "cell_type": "code",
   "execution_count": 17,
   "id": "aa23b5b0",
   "metadata": {},
   "outputs": [
    {
     "data": {
      "text/plain": [
       "Open            0.0\n",
       "High            0.0\n",
       "Low             0.0\n",
       "Close           0.0\n",
       "Volume          0.0\n",
       "Dividends       0.0\n",
       "Stock Splits    0.0\n",
       "dtype: float64"
      ]
     },
     "execution_count": 17,
     "metadata": {},
     "output_type": "execute_result"
    }
   ],
   "source": [
    "pan_df.isnull().sum()/len(pan_df)"
   ]
  },
  {
   "cell_type": "code",
   "execution_count": 18,
   "id": "deba3f1b",
   "metadata": {
    "scrolled": true
   },
   "outputs": [
    {
     "name": "stdout",
     "output_type": "stream",
     "text": [
      "Open            float64\n",
      "High            float64\n",
      "Low             float64\n",
      "Close           float64\n",
      "Volume            int64\n",
      "Dividends       float64\n",
      "Stock Splits      int64\n",
      "dtype: object\n",
      "Open            float64\n",
      "High            float64\n",
      "Low             float64\n",
      "Close           float64\n",
      "Volume            int64\n",
      "Dividends       float64\n",
      "Stock Splits      int64\n",
      "dtype: object\n",
      "Open            float64\n",
      "High            float64\n",
      "Low             float64\n",
      "Close           float64\n",
      "Volume            int64\n",
      "Dividends       float64\n",
      "Stock Splits      int64\n",
      "dtype: object\n"
     ]
    }
   ],
   "source": [
    "print(sig_df.dtypes)\n",
    "print(mov_df.dtypes)\n",
    "print(pan_df.dtypes)"
   ]
  },
  {
   "cell_type": "code",
   "execution_count": null,
   "id": "596b9a11",
   "metadata": {},
   "outputs": [],
   "source": [
    "# I want to see how much change is happening from day to day"
   ]
  },
  {
   "cell_type": "code",
   "execution_count": 19,
   "id": "da16677d",
   "metadata": {},
   "outputs": [
    {
     "data": {
      "image/png": "[encoded data removed]",
      "text/plain": [
       "<Figure size 432x288 with 1 Axes>"
      ]
     },
     "metadata": {
      "needs_background": "light"
     },
     "output_type": "display_data"
    }
   ],
   "source": [
    "test1 = sig_df.Close.pct_change()\n",
    "# Scale by 100 to get percentages\n",
    "test1 = 100 * test1.asfreq(\"B\")\n",
    "fig, ax = plt.subplots()\n",
    "ax = test1.plot(ax=ax)"
   ]
  },
  {
   "cell_type": "code",
   "execution_count": null,
   "id": "ffe55855",
   "metadata": {},
   "outputs": [],
   "source": []
  },
  {
   "cell_type": "code",
   "execution_count": 20,
   "id": "21a5384a",
   "metadata": {},
   "outputs": [
    {
     "data": {
      "text/plain": [
       "<AxesSubplot:xlabel='y(t)', ylabel='y(t + 1)'>"
      ]
     },
     "execution_count": 20,
     "metadata": {},
     "output_type": "execute_result"
    },
    {
     "data": {
      "image/png": "[encoded data removed]",
      "text/plain": [
       "<Figure size 432x288 with 1 Axes>"
      ]
     },
     "metadata": {
      "needs_background": "light"
     },
     "output_type": "display_data"
    }
   ],
   "source": [
    "lag_plot(sig_df.Close)"
   ]
  },
  {
   "cell_type": "code",
   "execution_count": 21,
   "id": "59c6b6d8",
   "metadata": {},
   "outputs": [
    {
     "data": {
      "text/plain": [
       "[<matplotlib.lines.Line2D at 0x24557f66e20>]"
      ]
     },
     "execution_count": 21,
     "metadata": {},
     "output_type": "execute_result"
    },
    {
     "data": {
      "image/png": "[encoded data removed]",
      "text/plain": [
       "<Figure size 432x288 with 1 Axes>"
      ]
     },
     "metadata": {
      "needs_background": "light"
     },
     "output_type": "display_data"
    }
   ],
   "source": [
    "plt.plot(sig_df.index , sig_df['Close'])"
   ]
  },
  {
   "cell_type": "code",
   "execution_count": 22,
   "id": "f6680109",
   "metadata": {},
   "outputs": [
    {
     "data": {
      "image/png": "[encoded data removed]",
      "text/plain": [
       "<Figure size 432x288 with 1 Axes>"
      ]
     },
     "metadata": {
      "needs_background": "light"
     },
     "output_type": "display_data"
    }
   ],
   "source": [
    "test2 = mov_df.Close.pct_change()\n",
    "# Scale by 100 to get percentages\n",
    "test2 = 100 * test2.asfreq(\"B\")\n",
    "fig, ax = plt.subplots()\n",
    "ax = test2.plot(ax=ax)"
   ]
  },
  {
   "cell_type": "code",
   "execution_count": 23,
   "id": "65d8c492",
   "metadata": {},
   "outputs": [
    {
     "data": {
      "text/plain": [
       "<AxesSubplot:xlabel='y(t)', ylabel='y(t + 1)'>"
      ]
     },
     "execution_count": 23,
     "metadata": {},
     "output_type": "execute_result"
    },
    {
     "data": {
      "image/png": "[encoded data removed]",
      "text/plain": [
       "<Figure size 432x288 with 1 Axes>"
      ]
     },
     "metadata": {
      "needs_background": "light"
     },
     "output_type": "display_data"
    }
   ],
   "source": [
    "lag_plot(mov_df.Close)"
   ]
  },
  {
   "cell_type": "code",
   "execution_count": 24,
   "id": "d6c154ce",
   "metadata": {},
   "outputs": [
    {
     "data": {
      "text/plain": [
       "[<matplotlib.lines.Line2D at 0x24557e5f520>]"
      ]
     },
     "execution_count": 24,
     "metadata": {},
     "output_type": "execute_result"
    },
    {
     "data": {
      "image/png": "[encoded data removed]",
      "text/plain": [
       "<Figure size 432x288 with 1 Axes>"
      ]
     },
     "metadata": {
      "needs_background": "light"
     },
     "output_type": "display_data"
    }
   ],
   "source": [
    "plt.plot(mov_df.index , mov_df['Close'])"
   ]
  },
  {
   "cell_type": "code",
   "execution_count": 25,
   "id": "ce076574",
   "metadata": {},
   "outputs": [
    {
     "data": {
      "image/png": "[encoded data removed]",
      "text/plain": [
       "<Figure size 432x288 with 1 Axes>"
      ]
     },
     "metadata": {
      "needs_background": "light"
     },
     "output_type": "display_data"
    }
   ],
   "source": [
    "test3 = pan_df.Close.pct_change()\n",
    "# Scale by 100 to get percentages\n",
    "test3 = 100 * test3.asfreq(\"B\")\n",
    "fig, ax = plt.subplots()\n",
    "ax = test3.plot(ax=ax)"
   ]
  },
  {
   "cell_type": "code",
   "execution_count": 26,
   "id": "5fde48b7",
   "metadata": {},
   "outputs": [
    {
     "data": {
      "text/plain": [
       "<AxesSubplot:xlabel='y(t)', ylabel='y(t + 1)'>"
      ]
     },
     "execution_count": 26,
     "metadata": {},
     "output_type": "execute_result"
    },
    {
     "data": {
      "image/png": "[encoded data removed]",
      "text/plain": [
       "<Figure size 432x288 with 1 Axes>"
      ]
     },
     "metadata": {
      "needs_background": "light"
     },
     "output_type": "display_data"
    }
   ],
   "source": [
    "lag_plot(pan_df.Close)"
   ]
  },
  {
   "cell_type": "code",
   "execution_count": 27,
   "id": "d5d1f32e",
   "metadata": {
    "scrolled": true
   },
   "outputs": [
    {
     "data": {
      "text/plain": [
       "[<matplotlib.lines.Line2D at 0x2455961dfd0>]"
      ]
     },
     "execution_count": 27,
     "metadata": {},
     "output_type": "execute_result"
    },
    {
     "data": {
      "image/png": "[encoded data removed]",
      "text/plain": [
       "<Figure size 432x288 with 1 Axes>"
      ]
     },
     "metadata": {
      "needs_background": "light"
     },
     "output_type": "display_data"
    }
   ],
   "source": [
    "plt.plot(pan_df.index , pan_df['Close'])"
   ]
  },
  {
   "cell_type": "code",
   "execution_count": null,
   "id": "23d0ef30",
   "metadata": {},
   "outputs": [],
   "source": [
    "# I only need the last 200 days from the close column"
   ]
  },
  {
   "cell_type": "code",
   "execution_count": 28,
   "id": "74c88a31",
   "metadata": {},
   "outputs": [
    {
     "data": {
      "text/html": [
       "<div>\n",
       "<style scoped>\n",
       "    .dataframe tbody tr th:only-of-type {\n",
       "        vertical-align: middle;\n",
       "    }\n",
       "\n",
       "    .dataframe tbody tr th {\n",
       "        vertical-align: top;\n",
       "    }\n",
       "\n",
       "    .dataframe thead th {\n",
       "        text-align: right;\n",
       "    }\n",
       "</style>\n",
       "<table border=\"1\" class=\"dataframe\">\n",
       "  <thead>\n",
       "    <tr style=\"text-align: right;\">\n",
       "      <th></th>\n",
       "      <th>Close</th>\n",
       "    </tr>\n",
       "    <tr>\n",
       "      <th>Date</th>\n",
       "      <th></th>\n",
       "    </tr>\n",
       "  </thead>\n",
       "  <tbody>\n",
       "    <tr>\n",
       "      <th>2022-01-13</th>\n",
       "      <td>89.191582</td>\n",
       "    </tr>\n",
       "    <tr>\n",
       "      <th>2022-01-14</th>\n",
       "      <td>88.489746</td>\n",
       "    </tr>\n",
       "    <tr>\n",
       "      <th>2022-01-18</th>\n",
       "      <td>87.155281</td>\n",
       "    </tr>\n",
       "    <tr>\n",
       "      <th>2022-01-19</th>\n",
       "      <td>86.404045</td>\n",
       "    </tr>\n",
       "    <tr>\n",
       "      <th>2022-01-20</th>\n",
       "      <td>78.080940</td>\n",
       "    </tr>\n",
       "    <tr>\n",
       "      <th>...</th>\n",
       "      <td>...</td>\n",
       "    </tr>\n",
       "    <tr>\n",
       "      <th>2022-10-24</th>\n",
       "      <td>58.669312</td>\n",
       "    </tr>\n",
       "    <tr>\n",
       "      <th>2022-10-25</th>\n",
       "      <td>63.843380</td>\n",
       "    </tr>\n",
       "    <tr>\n",
       "      <th>2022-10-26</th>\n",
       "      <td>64.940002</td>\n",
       "    </tr>\n",
       "    <tr>\n",
       "      <th>2022-10-27</th>\n",
       "      <td>66.199997</td>\n",
       "    </tr>\n",
       "    <tr>\n",
       "      <th>2022-10-28</th>\n",
       "      <td>67.290001</td>\n",
       "    </tr>\n",
       "  </tbody>\n",
       "</table>\n",
       "<p>200 rows × 1 columns</p>\n",
       "</div>"
      ],
      "text/plain": [
       "                Close\n",
       "Date                 \n",
       "2022-01-13  89.191582\n",
       "2022-01-14  88.489746\n",
       "2022-01-18  87.155281\n",
       "2022-01-19  86.404045\n",
       "2022-01-20  78.080940\n",
       "...               ...\n",
       "2022-10-24  58.669312\n",
       "2022-10-25  63.843380\n",
       "2022-10-26  64.940002\n",
       "2022-10-27  66.199997\n",
       "2022-10-28  67.290001\n",
       "\n",
       "[200 rows x 1 columns]"
      ]
     },
     "execution_count": 28,
     "metadata": {},
     "output_type": "execute_result"
    }
   ],
   "source": [
    "sig1 = pd.DataFrame(sig_df[-200:]['Close'])\n",
    "sig1"
   ]
  },
  {
   "cell_type": "code",
   "execution_count": 30,
   "id": "b4aa93db",
   "metadata": {},
   "outputs": [],
   "source": [
    "from statsmodels.tsa.stattools import adfuller\n",
    " #creating a function for values \n",
    "def adf_test(dataset):\n",
    "  dftest = adfuller(dataset, autolag = 'AIC')\n",
    "  print(\"1. ADF : \",dftest[0])\n",
    "  print(\"2. P-Value : \", dftest[1])\n",
    "  print(\"3. Num Of Lags : \", dftest[2])\n",
    "  print(\"4. Num Of Observations Used For ADF Regression and Critical Values Calculation :\", dftest[3])\n",
    "  print(\"5. Critical Values :\")\n",
    "  for key, val in dftest[4].items():\n",
    "      print(\"\\t\",key, \": \", val)\n"
   ]
  },
  {
   "cell_type": "code",
   "execution_count": 31,
   "id": "97e571aa",
   "metadata": {},
   "outputs": [
    {
     "name": "stdout",
     "output_type": "stream",
     "text": [
      "1. ADF :  -2.7482385614207527\n",
      "2. P-Value :  0.06605634331160291\n",
      "3. Num Of Lags :  0\n",
      "4. Num Of Observations Used For ADF Regression and Critical Values Calculation : 199\n",
      "5. Critical Values :\n",
      "\t 1% :  -3.4636447617687436\n",
      "\t 5% :  -2.8761761179270766\n",
      "\t 10% :  -2.57457158581854\n"
     ]
    }
   ],
   "source": [
    " #printing for AvgTemp\n",
    "adf_test(sig1['Close'])"
   ]
  },
  {
   "cell_type": "code",
   "execution_count": 63,
   "id": "c4b60a1e",
   "metadata": {},
   "outputs": [
    {
     "name": "stderr",
     "output_type": "stream",
     "text": [
      "C:\\Users\\13306\\anaconda3\\lib\\site-packages\\statsmodels\\tsa\\base\\tsa_model.py:471: ValueWarning: A date index has been provided, but it has no associated frequency information and so will be ignored when e.g. forecasting.\n",
      "  self._init_dates(dates, freq)\n",
      "C:\\Users\\13306\\anaconda3\\lib\\site-packages\\statsmodels\\tsa\\base\\tsa_model.py:834: ValueWarning: No supported index is available. Prediction results will be given with an integer index beginning at `start`.\n",
      "  return get_prediction_index(\n",
      "C:\\Users\\13306\\anaconda3\\lib\\site-packages\\statsmodels\\tsa\\deterministic.py:302: UserWarning: Only PeriodIndexes, DatetimeIndexes with a frequency set, RangesIndexes, and Index with a unit increment support extending. The index is set will contain the position relative to the data length.\n",
      "  fcast_index = self._extend_index(index, steps, forecast_index)\n"
     ]
    },
    {
     "data": {
      "text/plain": [
       "Date\n",
       "2022-03-28    68.452622\n",
       "2022-03-29    67.079605\n",
       "2022-03-30    65.720609\n",
       "2022-03-31    66.840658\n",
       "2022-04-01    66.997914\n",
       "                ...    \n",
       "2022-10-24    62.890206\n",
       "2022-10-25    62.888687\n",
       "2022-10-26    62.889590\n",
       "2022-10-27    62.889420\n",
       "2022-10-28    62.887584\n",
       "Length: 150, dtype: float64"
      ]
     },
     "execution_count": 63,
     "metadata": {},
     "output_type": "execute_result"
    }
   ],
   "source": [
    "from statsmodels.tsa.ar_model import AutoReg\n",
    "\n",
    "train, test = sig1.Close[:150], sig1.Close[50:]\n",
    "\n",
    "auto_reg_model = AutoReg(train, lags=30)\n",
    "a_model_fit = auto_reg_model.fit()\n",
    "\n",
    "a_predictions = a_model_fit.predict(start=len(train), end=len(train)+len(test)-1, dynamic=False)\n",
    "\n",
    "a_predictions.index = test.index # Need to reset index\n",
    "\n",
    "a_predictions"
   ]
  },
  {
   "cell_type": "code",
   "execution_count": 54,
   "id": "3e1f9709",
   "metadata": {},
   "outputs": [
    {
     "data": {
      "text/html": [
       "<div>\n",
       "<style scoped>\n",
       "    .dataframe tbody tr th:only-of-type {\n",
       "        vertical-align: middle;\n",
       "    }\n",
       "\n",
       "    .dataframe tbody tr th {\n",
       "        vertical-align: top;\n",
       "    }\n",
       "\n",
       "    .dataframe thead th {\n",
       "        text-align: right;\n",
       "    }\n",
       "</style>\n",
       "<table border=\"1\" class=\"dataframe\">\n",
       "  <thead>\n",
       "    <tr style=\"text-align: right;\">\n",
       "      <th></th>\n",
       "      <th>observed</th>\n",
       "      <th>predicted</th>\n",
       "    </tr>\n",
       "    <tr>\n",
       "      <th>Date</th>\n",
       "      <th></th>\n",
       "      <th></th>\n",
       "    </tr>\n",
       "  </thead>\n",
       "  <tbody>\n",
       "    <tr>\n",
       "      <th>2022-03-28</th>\n",
       "      <td>75.522781</td>\n",
       "      <td>68.452622</td>\n",
       "    </tr>\n",
       "    <tr>\n",
       "      <th>2022-03-29</th>\n",
       "      <td>79.733353</td>\n",
       "      <td>67.079605</td>\n",
       "    </tr>\n",
       "    <tr>\n",
       "      <th>2022-03-30</th>\n",
       "      <td>75.225563</td>\n",
       "      <td>65.720609</td>\n",
       "    </tr>\n",
       "    <tr>\n",
       "      <th>2022-03-31</th>\n",
       "      <td>72.025528</td>\n",
       "      <td>66.840658</td>\n",
       "    </tr>\n",
       "    <tr>\n",
       "      <th>2022-04-01</th>\n",
       "      <td>70.281860</td>\n",
       "      <td>66.997914</td>\n",
       "    </tr>\n",
       "    <tr>\n",
       "      <th>...</th>\n",
       "      <td>...</td>\n",
       "      <td>...</td>\n",
       "    </tr>\n",
       "    <tr>\n",
       "      <th>2022-10-24</th>\n",
       "      <td>58.669312</td>\n",
       "      <td>62.890206</td>\n",
       "    </tr>\n",
       "    <tr>\n",
       "      <th>2022-10-25</th>\n",
       "      <td>63.843380</td>\n",
       "      <td>62.888687</td>\n",
       "    </tr>\n",
       "    <tr>\n",
       "      <th>2022-10-26</th>\n",
       "      <td>64.940002</td>\n",
       "      <td>62.889590</td>\n",
       "    </tr>\n",
       "    <tr>\n",
       "      <th>2022-10-27</th>\n",
       "      <td>66.199997</td>\n",
       "      <td>62.889420</td>\n",
       "    </tr>\n",
       "    <tr>\n",
       "      <th>2022-10-28</th>\n",
       "      <td>67.290001</td>\n",
       "      <td>62.887584</td>\n",
       "    </tr>\n",
       "  </tbody>\n",
       "</table>\n",
       "<p>150 rows × 2 columns</p>\n",
       "</div>"
      ],
      "text/plain": [
       "             observed  predicted\n",
       "Date                            \n",
       "2022-03-28  75.522781  68.452622\n",
       "2022-03-29  79.733353  67.079605\n",
       "2022-03-30  75.225563  65.720609\n",
       "2022-03-31  72.025528  66.840658\n",
       "2022-04-01  70.281860  66.997914\n",
       "...               ...        ...\n",
       "2022-10-24  58.669312  62.890206\n",
       "2022-10-25  63.843380  62.888687\n",
       "2022-10-26  64.940002  62.889590\n",
       "2022-10-27  66.199997  62.889420\n",
       "2022-10-28  67.290001  62.887584\n",
       "\n",
       "[150 rows x 2 columns]"
      ]
     },
     "execution_count": 54,
     "metadata": {},
     "output_type": "execute_result"
    }
   ],
   "source": [
    "pd.DataFrame({'observed':sig1.Close[50:].values, 'predicted':a_predictions})"
   ]
  },
  {
   "cell_type": "code",
   "execution_count": 64,
   "id": "a8f4b784",
   "metadata": {},
   "outputs": [
    {
     "name": "stdout",
     "output_type": "stream",
     "text": [
      "2022-10-29    68.452622\n",
      "2022-10-30    67.079605\n",
      "2022-10-31    65.720609\n",
      "2022-11-01    66.840658\n",
      "2022-11-02    66.997914\n",
      "2022-11-03    66.038577\n",
      "2022-11-04    65.737365\n",
      "2022-11-05    65.912459\n",
      "2022-11-06    64.484007\n",
      "2022-11-07    64.654252\n",
      "2022-11-08    63.739424\n",
      "2022-11-09    63.581828\n",
      "2022-11-10    62.376131\n",
      "2022-11-11    63.629059\n",
      "2022-11-12    63.084073\n",
      "2022-11-13    64.050752\n",
      "2022-11-14    63.681542\n",
      "2022-11-15    64.666182\n",
      "2022-11-16    63.967599\n",
      "2022-11-17    63.520543\n",
      "2022-11-18    63.804683\n",
      "2022-11-19    63.603205\n",
      "2022-11-20    63.241603\n",
      "2022-11-21    63.846101\n",
      "2022-11-22    64.199891\n",
      "2022-11-23    64.258852\n",
      "2022-11-24    64.435770\n",
      "2022-11-25    64.162463\n",
      "2022-11-26    63.657957\n",
      "2022-11-27    63.942381\n",
      "2022-11-28    63.855644\n",
      "Freq: D, Name: Predictions, dtype: float64\n"
     ]
    },
    {
     "name": "stderr",
     "output_type": "stream",
     "text": [
      "C:\\Users\\13306\\anaconda3\\lib\\site-packages\\statsmodels\\tsa\\base\\tsa_model.py:834: ValueWarning: No supported index is available. Prediction results will be given with an integer index beginning at `start`.\n",
      "  return get_prediction_index(\n",
      "C:\\Users\\13306\\anaconda3\\lib\\site-packages\\statsmodels\\tsa\\deterministic.py:302: UserWarning: Only PeriodIndexes, DatetimeIndexes with a frequency set, RangesIndexes, and Index with a unit increment support extending. The index is set will contain the position relative to the data length.\n",
      "  fcast_index = self._extend_index(index, steps, forecast_index)\n"
     ]
    }
   ],
   "source": [
    "#printing predictions for next 30 days\n",
    "index_future_dates=pd.date_range(start='2022-10-29',end='2022-11-28')\n",
    "\n",
    "#print(index_future_dates)\n",
    "pred=a_model_fit.predict(start=len(test),end=len(test)+30).rename('Predictions')\n",
    "\n",
    "#print(comp_pred)\n",
    "pred.index=index_future_dates\n",
    "print(pred)"
   ]
  },
  {
   "cell_type": "code",
   "execution_count": 46,
   "id": "9d1bc56f",
   "metadata": {},
   "outputs": [
    {
     "data": {
      "text/plain": [
       "Date\n",
       "2022-06-08    61.795166\n",
       "2022-06-09    67.388527\n",
       "2022-06-10    61.268620\n",
       "2022-06-13    58.009964\n",
       "2022-06-14    60.672523\n",
       "                ...    \n",
       "2022-10-24    58.669312\n",
       "2022-10-25    63.843380\n",
       "2022-10-26    64.940002\n",
       "2022-10-27    66.199997\n",
       "2022-10-28    67.290001\n",
       "Name: Close, Length: 100, dtype: float64"
      ]
     },
     "execution_count": 46,
     "metadata": {},
     "output_type": "execute_result"
    }
   ],
   "source": [
    "test"
   ]
  },
  {
   "cell_type": "code",
   "execution_count": 89,
   "id": "87059d89",
   "metadata": {},
   "outputs": [
    {
     "data": {
      "image/png": "[encoded data removed]",
      "text/plain": [
       "<Figure size 1080x720 with 1 Axes>"
      ]
     },
     "metadata": {
      "needs_background": "light"
     },
     "output_type": "display_data"
    }
   ],
   "source": [
    "plt.figure(figsize=(15,10))\n",
    "#plt.plot(pred, label='predictions')\n",
    "\n",
    "plt.plot(test, label = 'observed')\n",
    "plt.legend()\n",
    "plt.show()"
   ]
  },
  {
   "cell_type": "code",
   "execution_count": 90,
   "id": "a1d0d6aa",
   "metadata": {},
   "outputs": [
    {
     "data": {
      "image/png": "[encoded data removed]",
      "text/plain": [
       "<Figure size 1080x720 with 1 Axes>"
      ]
     },
     "metadata": {
      "needs_background": "light"
     },
     "output_type": "display_data"
    }
   ],
   "source": [
    "plt.figure(figsize=(15,10))\n",
    "plt.plot(pred, label='predictions')\n",
    "plt.legend()\n",
    "plt.show()"
   ]
  },
  {
   "cell_type": "code",
   "execution_count": 58,
   "id": "fedca074",
   "metadata": {},
   "outputs": [
    {
     "data": {
      "text/html": [
       "<div>\n",
       "<style scoped>\n",
       "    .dataframe tbody tr th:only-of-type {\n",
       "        vertical-align: middle;\n",
       "    }\n",
       "\n",
       "    .dataframe tbody tr th {\n",
       "        vertical-align: top;\n",
       "    }\n",
       "\n",
       "    .dataframe thead th {\n",
       "        text-align: right;\n",
       "    }\n",
       "</style>\n",
       "<table border=\"1\" class=\"dataframe\">\n",
       "  <thead>\n",
       "    <tr style=\"text-align: right;\">\n",
       "      <th></th>\n",
       "      <th>Close</th>\n",
       "    </tr>\n",
       "    <tr>\n",
       "      <th>Date</th>\n",
       "      <th></th>\n",
       "    </tr>\n",
       "  </thead>\n",
       "  <tbody>\n",
       "    <tr>\n",
       "      <th>2022-01-13</th>\n",
       "      <td>38.485992</td>\n",
       "    </tr>\n",
       "    <tr>\n",
       "      <th>2022-01-14</th>\n",
       "      <td>37.729084</td>\n",
       "    </tr>\n",
       "    <tr>\n",
       "      <th>2022-01-18</th>\n",
       "      <td>36.739277</td>\n",
       "    </tr>\n",
       "    <tr>\n",
       "      <th>2022-01-19</th>\n",
       "      <td>36.516087</td>\n",
       "    </tr>\n",
       "    <tr>\n",
       "      <th>2022-01-20</th>\n",
       "      <td>35.176937</td>\n",
       "    </tr>\n",
       "    <tr>\n",
       "      <th>...</th>\n",
       "      <td>...</td>\n",
       "    </tr>\n",
       "    <tr>\n",
       "      <th>2022-10-24</th>\n",
       "      <td>31.620001</td>\n",
       "    </tr>\n",
       "    <tr>\n",
       "      <th>2022-10-25</th>\n",
       "      <td>32.990002</td>\n",
       "    </tr>\n",
       "    <tr>\n",
       "      <th>2022-10-26</th>\n",
       "      <td>32.939999</td>\n",
       "    </tr>\n",
       "    <tr>\n",
       "      <th>2022-10-27</th>\n",
       "      <td>32.540001</td>\n",
       "    </tr>\n",
       "    <tr>\n",
       "      <th>2022-10-28</th>\n",
       "      <td>33.169998</td>\n",
       "    </tr>\n",
       "  </tbody>\n",
       "</table>\n",
       "<p>200 rows × 1 columns</p>\n",
       "</div>"
      ],
      "text/plain": [
       "                Close\n",
       "Date                 \n",
       "2022-01-13  38.485992\n",
       "2022-01-14  37.729084\n",
       "2022-01-18  36.739277\n",
       "2022-01-19  36.516087\n",
       "2022-01-20  35.176937\n",
       "...               ...\n",
       "2022-10-24  31.620001\n",
       "2022-10-25  32.990002\n",
       "2022-10-26  32.939999\n",
       "2022-10-27  32.540001\n",
       "2022-10-28  33.169998\n",
       "\n",
       "[200 rows x 1 columns]"
      ]
     },
     "execution_count": 58,
     "metadata": {},
     "output_type": "execute_result"
    }
   ],
   "source": [
    "mov1 = pd.DataFrame(mov_df[-200:]['Close'])\n",
    "mov1"
   ]
  },
  {
   "cell_type": "code",
   "execution_count": 59,
   "id": "936c5358",
   "metadata": {},
   "outputs": [
    {
     "name": "stdout",
     "output_type": "stream",
     "text": [
      "1. ADF :  -2.0585537812091865\n",
      "2. P-Value :  0.2615034203729774\n",
      "3. Num Of Lags :  2\n",
      "4. Num Of Observations Used For ADF Regression and Critical Values Calculation : 197\n",
      "5. Critical Values :\n",
      "\t 1% :  -3.463987334463603\n",
      "\t 5% :  -2.8763259091636213\n",
      "\t 10% :  -2.5746515171738515\n"
     ]
    }
   ],
   "source": [
    "adf_test(mov1['Close'])"
   ]
  },
  {
   "cell_type": "code",
   "execution_count": 66,
   "id": "0121cc0c",
   "metadata": {},
   "outputs": [
    {
     "name": "stderr",
     "output_type": "stream",
     "text": [
      "C:\\Users\\13306\\anaconda3\\lib\\site-packages\\statsmodels\\tsa\\base\\tsa_model.py:471: ValueWarning: A date index has been provided, but it has no associated frequency information and so will be ignored when e.g. forecasting.\n",
      "  self._init_dates(dates, freq)\n",
      "C:\\Users\\13306\\anaconda3\\lib\\site-packages\\statsmodels\\tsa\\base\\tsa_model.py:834: ValueWarning: No supported index is available. Prediction results will be given with an integer index beginning at `start`.\n",
      "  return get_prediction_index(\n",
      "C:\\Users\\13306\\anaconda3\\lib\\site-packages\\statsmodels\\tsa\\deterministic.py:302: UserWarning: Only PeriodIndexes, DatetimeIndexes with a frequency set, RangesIndexes, and Index with a unit increment support extending. The index is set will contain the position relative to the data length.\n",
      "  fcast_index = self._extend_index(index, steps, forecast_index)\n"
     ]
    },
    {
     "data": {
      "text/plain": [
       "Date\n",
       "2022-03-28    36.206261\n",
       "2022-03-29    35.492896\n",
       "2022-03-30    34.929030\n",
       "2022-03-31    35.113903\n",
       "2022-04-01    34.709715\n",
       "                ...    \n",
       "2022-10-24    34.024577\n",
       "2022-10-25    34.024282\n",
       "2022-10-26    34.021488\n",
       "2022-10-27    34.020790\n",
       "2022-10-28    34.019619\n",
       "Length: 150, dtype: float64"
      ]
     },
     "execution_count": 66,
     "metadata": {},
     "output_type": "execute_result"
    }
   ],
   "source": [
    "train1, test1 = mov1.Close[:150], mov1.Close[50:]\n",
    "\n",
    "model1 = AutoReg(train1, lags=30)\n",
    "model_fit1 = model1.fit()\n",
    "\n",
    "pred1 = model_fit1.predict(start=len(train1), end=len(train1)+len(test1)-1, dynamic=False)\n",
    "\n",
    "pred1.index = test1.index # Needs to reset index\n",
    "\n",
    "pred1"
   ]
  },
  {
   "cell_type": "code",
   "execution_count": 68,
   "id": "8e658334",
   "metadata": {},
   "outputs": [
    {
     "name": "stdout",
     "output_type": "stream",
     "text": [
      "2022-10-29    36.206261\n",
      "2022-10-30    35.492896\n",
      "2022-10-31    34.929030\n",
      "2022-11-01    35.113903\n",
      "2022-11-02    34.709715\n",
      "2022-11-03    34.531782\n",
      "2022-11-04    34.498005\n",
      "2022-11-05    34.515466\n",
      "2022-11-06    34.243218\n",
      "2022-11-07    34.466859\n",
      "2022-11-08    34.338648\n",
      "2022-11-09    34.243764\n",
      "2022-11-10    34.101119\n",
      "2022-11-11    33.868794\n",
      "2022-11-12    34.016874\n",
      "2022-11-13    33.582077\n",
      "2022-11-14    33.651852\n",
      "2022-11-15    33.803946\n",
      "2022-11-16    33.530495\n",
      "2022-11-17    33.720016\n",
      "2022-11-18    33.786170\n",
      "2022-11-19    33.800089\n",
      "2022-11-20    33.593459\n",
      "2022-11-21    33.855698\n",
      "2022-11-22    33.724379\n",
      "2022-11-23    33.848637\n",
      "2022-11-24    33.937924\n",
      "2022-11-25    33.980369\n",
      "2022-11-26    34.064491\n",
      "2022-11-27    34.171256\n",
      "2022-11-28    34.290277\n",
      "Freq: D, Name: Predictions, dtype: float64\n"
     ]
    },
    {
     "name": "stderr",
     "output_type": "stream",
     "text": [
      "C:\\Users\\13306\\anaconda3\\lib\\site-packages\\statsmodels\\tsa\\base\\tsa_model.py:834: ValueWarning: No supported index is available. Prediction results will be given with an integer index beginning at `start`.\n",
      "  return get_prediction_index(\n",
      "C:\\Users\\13306\\anaconda3\\lib\\site-packages\\statsmodels\\tsa\\deterministic.py:302: UserWarning: Only PeriodIndexes, DatetimeIndexes with a frequency set, RangesIndexes, and Index with a unit increment support extending. The index is set will contain the position relative to the data length.\n",
      "  fcast_index = self._extend_index(index, steps, forecast_index)\n"
     ]
    }
   ],
   "source": [
    "\n",
    "#print(index_future_dates)\n",
    "pred_1 = model_fit1.predict(start=len(test1),end=len(test1)+30).rename('Predictions')\n",
    "\n",
    "#print(comp_pred)\n",
    "pred_1.index=index_future_dates\n",
    "print(pred_1)"
   ]
  },
  {
   "cell_type": "code",
   "execution_count": 91,
   "id": "c92fbcd9",
   "metadata": {},
   "outputs": [
    {
     "data": {
      "image/png": "[encoded data removed]",
      "text/plain": [
       "<Figure size 1080x720 with 1 Axes>"
      ]
     },
     "metadata": {
      "needs_background": "light"
     },
     "output_type": "display_data"
    }
   ],
   "source": [
    "plt.figure(figsize=(15,10))\n",
    "# plt.plot(pred_1, label='predictions')\n",
    "\n",
    "plt.plot(test1, label = 'observed')\n",
    "plt.legend()\n",
    "plt.show()"
   ]
  },
  {
   "cell_type": "code",
   "execution_count": 93,
   "id": "da4a7c00",
   "metadata": {},
   "outputs": [
    {
     "data": {
      "image/png": "[encoded data removed]",
      "text/plain": [
       "<Figure size 1080x720 with 1 Axes>"
      ]
     },
     "metadata": {
      "needs_background": "light"
     },
     "output_type": "display_data"
    }
   ],
   "source": [
    "plt.figure(figsize=(15,10))\n",
    "plt.plot(pred_1, label='predictions')\n",
    "plt.legend()\n",
    "plt.show()"
   ]
  },
  {
   "cell_type": "code",
   "execution_count": 70,
   "id": "d1df472d",
   "metadata": {},
   "outputs": [
    {
     "data": {
      "text/html": [
       "<div>\n",
       "<style scoped>\n",
       "    .dataframe tbody tr th:only-of-type {\n",
       "        vertical-align: middle;\n",
       "    }\n",
       "\n",
       "    .dataframe tbody tr th {\n",
       "        vertical-align: top;\n",
       "    }\n",
       "\n",
       "    .dataframe thead th {\n",
       "        text-align: right;\n",
       "    }\n",
       "</style>\n",
       "<table border=\"1\" class=\"dataframe\">\n",
       "  <thead>\n",
       "    <tr style=\"text-align: right;\">\n",
       "      <th></th>\n",
       "      <th>Close</th>\n",
       "    </tr>\n",
       "    <tr>\n",
       "      <th>Date</th>\n",
       "      <th></th>\n",
       "    </tr>\n",
       "  </thead>\n",
       "  <tbody>\n",
       "    <tr>\n",
       "      <th>2022-01-13</th>\n",
       "      <td>29.477190</td>\n",
       "    </tr>\n",
       "    <tr>\n",
       "      <th>2022-01-14</th>\n",
       "      <td>28.534464</td>\n",
       "    </tr>\n",
       "    <tr>\n",
       "      <th>2022-01-18</th>\n",
       "      <td>28.427557</td>\n",
       "    </tr>\n",
       "    <tr>\n",
       "      <th>2022-01-19</th>\n",
       "      <td>29.146749</td>\n",
       "    </tr>\n",
       "    <tr>\n",
       "      <th>2022-01-20</th>\n",
       "      <td>29.156469</td>\n",
       "    </tr>\n",
       "    <tr>\n",
       "      <th>...</th>\n",
       "      <td>...</td>\n",
       "    </tr>\n",
       "    <tr>\n",
       "      <th>2022-10-24</th>\n",
       "      <td>13.160000</td>\n",
       "    </tr>\n",
       "    <tr>\n",
       "      <th>2022-10-25</th>\n",
       "      <td>13.710000</td>\n",
       "    </tr>\n",
       "    <tr>\n",
       "      <th>2022-10-26</th>\n",
       "      <td>14.220000</td>\n",
       "    </tr>\n",
       "    <tr>\n",
       "      <th>2022-10-27</th>\n",
       "      <td>13.900000</td>\n",
       "    </tr>\n",
       "    <tr>\n",
       "      <th>2022-10-28</th>\n",
       "      <td>13.720000</td>\n",
       "    </tr>\n",
       "  </tbody>\n",
       "</table>\n",
       "<p>200 rows × 1 columns</p>\n",
       "</div>"
      ],
      "text/plain": [
       "                Close\n",
       "Date                 \n",
       "2022-01-13  29.477190\n",
       "2022-01-14  28.534464\n",
       "2022-01-18  28.427557\n",
       "2022-01-19  29.146749\n",
       "2022-01-20  29.156469\n",
       "...               ...\n",
       "2022-10-24  13.160000\n",
       "2022-10-25  13.710000\n",
       "2022-10-26  14.220000\n",
       "2022-10-27  13.900000\n",
       "2022-10-28  13.720000\n",
       "\n",
       "[200 rows x 1 columns]"
      ]
     },
     "execution_count": 70,
     "metadata": {},
     "output_type": "execute_result"
    }
   ],
   "source": [
    "pan1 = pd.DataFrame(pan_df[-200:]['Close'])\n",
    "pan1"
   ]
  },
  {
   "cell_type": "code",
   "execution_count": 71,
   "id": "72339bd8",
   "metadata": {},
   "outputs": [
    {
     "name": "stdout",
     "output_type": "stream",
     "text": [
      "1. ADF :  -1.8056995779098888\n",
      "2. P-Value :  0.37763570550018155\n",
      "3. Num Of Lags :  0\n",
      "4. Num Of Observations Used For ADF Regression and Critical Values Calculation : 199\n",
      "5. Critical Values :\n",
      "\t 1% :  -3.4636447617687436\n",
      "\t 5% :  -2.8761761179270766\n",
      "\t 10% :  -2.57457158581854\n"
     ]
    }
   ],
   "source": [
    "adf_test(pan1['Close'])"
   ]
  },
  {
   "cell_type": "code",
   "execution_count": 80,
   "id": "388631c1",
   "metadata": {},
   "outputs": [
    {
     "name": "stderr",
     "output_type": "stream",
     "text": [
      "C:\\Users\\13306\\anaconda3\\lib\\site-packages\\statsmodels\\tsa\\base\\tsa_model.py:471: ValueWarning: A date index has been provided, but it has no associated frequency information and so will be ignored when e.g. forecasting.\n",
      "  self._init_dates(dates, freq)\n",
      "C:\\Users\\13306\\anaconda3\\lib\\site-packages\\statsmodels\\tsa\\base\\tsa_model.py:834: ValueWarning: No supported index is available. Prediction results will be given with an integer index beginning at `start`.\n",
      "  return get_prediction_index(\n",
      "C:\\Users\\13306\\anaconda3\\lib\\site-packages\\statsmodels\\tsa\\deterministic.py:302: UserWarning: Only PeriodIndexes, DatetimeIndexes with a frequency set, RangesIndexes, and Index with a unit increment support extending. The index is set will contain the position relative to the data length.\n",
      "  fcast_index = self._extend_index(index, steps, forecast_index)\n"
     ]
    },
    {
     "data": {
      "text/plain": [
       "Date\n",
       "2022-03-28    15.670474\n",
       "2022-03-29    15.731534\n",
       "2022-03-30    15.918358\n",
       "2022-03-31    16.216215\n",
       "2022-04-01    16.300638\n",
       "                ...    \n",
       "2022-10-24    16.034496\n",
       "2022-10-25    16.030187\n",
       "2022-10-26    16.023768\n",
       "2022-10-27    16.024918\n",
       "2022-10-28    16.031848\n",
       "Length: 150, dtype: float64"
      ]
     },
     "execution_count": 80,
     "metadata": {},
     "output_type": "execute_result"
    }
   ],
   "source": [
    "train2, test2 = pan1.Close[:150], pan1.Close[50:]\n",
    "\n",
    "model2 = AutoReg(train2, lags=30)\n",
    "model_fit2 = model2.fit()\n",
    "\n",
    "pred2 = model_fit2.predict(start=len(train2), end=len(train2)+len(test2)-1, dynamic=False)\n",
    "\n",
    "pred2.index = test2.index # Needs to reset index\n",
    "\n",
    "pred2"
   ]
  },
  {
   "cell_type": "code",
   "execution_count": 81,
   "id": "17af4145",
   "metadata": {},
   "outputs": [
    {
     "name": "stdout",
     "output_type": "stream",
     "text": [
      "2022-10-29    15.670474\n",
      "2022-10-30    15.731534\n",
      "2022-10-31    15.918358\n",
      "2022-11-01    16.216215\n",
      "2022-11-02    16.300638\n",
      "2022-11-03    16.282427\n",
      "2022-11-04    16.102007\n",
      "2022-11-05    16.013115\n",
      "2022-11-06    16.185330\n",
      "2022-11-07    16.319085\n",
      "2022-11-08    16.640517\n",
      "2022-11-09    16.352899\n",
      "2022-11-10    16.257800\n",
      "2022-11-11    16.783662\n",
      "2022-11-12    16.723760\n",
      "2022-11-13    17.156222\n",
      "2022-11-14    16.732081\n",
      "2022-11-15    16.701149\n",
      "2022-11-16    17.107416\n",
      "2022-11-17    17.040718\n",
      "2022-11-18    17.114755\n",
      "2022-11-19    16.811423\n",
      "2022-11-20    16.769628\n",
      "2022-11-21    16.663718\n",
      "2022-11-22    16.583806\n",
      "2022-11-23    16.549920\n",
      "2022-11-24    16.506905\n",
      "2022-11-25    16.671302\n",
      "2022-11-26    16.679940\n",
      "2022-11-27    16.523397\n",
      "2022-11-28    16.282372\n",
      "Freq: D, Name: Predictions, dtype: float64\n"
     ]
    },
    {
     "name": "stderr",
     "output_type": "stream",
     "text": [
      "C:\\Users\\13306\\anaconda3\\lib\\site-packages\\statsmodels\\tsa\\base\\tsa_model.py:834: ValueWarning: No supported index is available. Prediction results will be given with an integer index beginning at `start`.\n",
      "  return get_prediction_index(\n",
      "C:\\Users\\13306\\anaconda3\\lib\\site-packages\\statsmodels\\tsa\\deterministic.py:302: UserWarning: Only PeriodIndexes, DatetimeIndexes with a frequency set, RangesIndexes, and Index with a unit increment support extending. The index is set will contain the position relative to the data length.\n",
      "  fcast_index = self._extend_index(index, steps, forecast_index)\n"
     ]
    }
   ],
   "source": [
    "#print(index_future_dates)\n",
    "pred_2 = model_fit2.predict(start=len(test2),end=len(test2)+30).rename('Predictions')\n",
    "\n",
    "#print(comp_pred)\n",
    "pred_2.index=index_future_dates\n",
    "print(pred_2)"
   ]
  },
  {
   "cell_type": "code",
   "execution_count": 92,
   "id": "f306f505",
   "metadata": {},
   "outputs": [
    {
     "data": {
      "image/png": "[encoded data removed]",
      "text/plain": [
       "<Figure size 1080x720 with 1 Axes>"
      ]
     },
     "metadata": {
      "needs_background": "light"
     },
     "output_type": "display_data"
    }
   ],
   "source": [
    "plt.figure(figsize=(15,10))\n",
    "#plt.plot(pred_2, label='predictions')\n",
    "\n",
    "plt.plot(test2, label = 'observed')\n",
    "plt.legend()\n",
    "plt.show()"
   ]
  },
  {
   "cell_type": "code",
   "execution_count": 94,
   "id": "4914408d",
   "metadata": {},
   "outputs": [
    {
     "data": {
      "image/png": "[encoded data removed]",
      "text/plain": [
       "<Figure size 1080x720 with 1 Axes>"
      ]
     },
     "metadata": {
      "needs_background": "light"
     },
     "output_type": "display_data"
    }
   ],
   "source": [
    "plt.figure(figsize=(15,10))\n",
    "plt.plot(pred_2, label='predictions')\n",
    "plt.legend()\n",
    "plt.show()"
   ]
  },
  {
   "cell_type": "code",
   "execution_count": 77,
   "id": "df321f6d",
   "metadata": {},
   "outputs": [
    {
     "data": {
      "text/plain": [
       "2022-10-29    36.206261\n",
       "2022-10-30    35.492896\n",
       "2022-10-31    34.929030\n",
       "2022-11-01    35.113903\n",
       "2022-11-02    34.709715\n",
       "2022-11-03    34.531782\n",
       "2022-11-04    34.498005\n",
       "2022-11-05    34.515466\n",
       "2022-11-06    34.243218\n",
       "2022-11-07    34.466859\n",
       "2022-11-08    34.338648\n",
       "2022-11-09    34.243764\n",
       "2022-11-10    34.101119\n",
       "2022-11-11    33.868794\n",
       "2022-11-12    34.016874\n",
       "2022-11-13    33.582077\n",
       "2022-11-14    33.651852\n",
       "2022-11-15    33.803946\n",
       "2022-11-16    33.530495\n",
       "2022-11-17    33.720016\n",
       "2022-11-18    33.786170\n",
       "2022-11-19    33.800089\n",
       "2022-11-20    33.593459\n",
       "2022-11-21    33.855698\n",
       "2022-11-22    33.724379\n",
       "2022-11-23    33.848637\n",
       "2022-11-24    33.937924\n",
       "2022-11-25    33.980369\n",
       "2022-11-26    34.064491\n",
       "2022-11-27    34.171256\n",
       "2022-11-28    34.290277\n",
       "Freq: D, Name: Predictions, dtype: float64"
      ]
     },
     "execution_count": 77,
     "metadata": {},
     "output_type": "execute_result"
    }
   ],
   "source": [
    "pred_1"
   ]
  },
  {
   "cell_type": "code",
   "execution_count": 78,
   "id": "a4369ac0",
   "metadata": {},
   "outputs": [
    {
     "data": {
      "text/plain": [
       "2022-10-29    36.206261\n",
       "2022-10-30    35.492896\n",
       "2022-10-31    34.929030\n",
       "2022-11-01    35.113903\n",
       "2022-11-02    34.709715\n",
       "2022-11-03    34.531782\n",
       "2022-11-04    34.498005\n",
       "2022-11-05    34.515466\n",
       "2022-11-06    34.243218\n",
       "2022-11-07    34.466859\n",
       "2022-11-08    34.338648\n",
       "2022-11-09    34.243764\n",
       "2022-11-10    34.101119\n",
       "2022-11-11    33.868794\n",
       "2022-11-12    34.016874\n",
       "2022-11-13    33.582077\n",
       "2022-11-14    33.651852\n",
       "2022-11-15    33.803946\n",
       "2022-11-16    33.530495\n",
       "2022-11-17    33.720016\n",
       "2022-11-18    33.786170\n",
       "2022-11-19    33.800089\n",
       "2022-11-20    33.593459\n",
       "2022-11-21    33.855698\n",
       "2022-11-22    33.724379\n",
       "2022-11-23    33.848637\n",
       "2022-11-24    33.937924\n",
       "2022-11-25    33.980369\n",
       "2022-11-26    34.064491\n",
       "2022-11-27    34.171256\n",
       "2022-11-28    34.290277\n",
       "Freq: D, Name: Predictions, dtype: float64"
      ]
     },
     "execution_count": 78,
     "metadata": {},
     "output_type": "execute_result"
    }
   ],
   "source": [
    "pred_2"
   ]
  },
  {
   "cell_type": "code",
   "execution_count": 79,
   "id": "2f192787",
   "metadata": {},
   "outputs": [
    {
     "data": {
      "text/plain": [
       "2022-10-29    68.452622\n",
       "2022-10-30    67.079605\n",
       "2022-10-31    65.720609\n",
       "2022-11-01    66.840658\n",
       "2022-11-02    66.997914\n",
       "2022-11-03    66.038577\n",
       "2022-11-04    65.737365\n",
       "2022-11-05    65.912459\n",
       "2022-11-06    64.484007\n",
       "2022-11-07    64.654252\n",
       "2022-11-08    63.739424\n",
       "2022-11-09    63.581828\n",
       "2022-11-10    62.376131\n",
       "2022-11-11    63.629059\n",
       "2022-11-12    63.084073\n",
       "2022-11-13    64.050752\n",
       "2022-11-14    63.681542\n",
       "2022-11-15    64.666182\n",
       "2022-11-16    63.967599\n",
       "2022-11-17    63.520543\n",
       "2022-11-18    63.804683\n",
       "2022-11-19    63.603205\n",
       "2022-11-20    63.241603\n",
       "2022-11-21    63.846101\n",
       "2022-11-22    64.199891\n",
       "2022-11-23    64.258852\n",
       "2022-11-24    64.435770\n",
       "2022-11-25    64.162463\n",
       "2022-11-26    63.657957\n",
       "2022-11-27    63.942381\n",
       "2022-11-28    63.855644\n",
       "Freq: D, Name: Predictions, dtype: float64"
      ]
     },
     "execution_count": 79,
     "metadata": {},
     "output_type": "execute_result"
    }
   ],
   "source": [
    "pred"
   ]
  },
  {
   "cell_type": "code",
   "execution_count": 107,
   "id": "ffd126f2",
   "metadata": {},
   "outputs": [
    {
     "data": {
      "image/png": "[encoded data removed]",
      "text/plain": [
       "<Figure size 1080x720 with 1 Axes>"
      ]
     },
     "metadata": {
      "needs_background": "light"
     },
     "output_type": "display_data"
    }
   ],
   "source": [
    "plt.figure(figsize=(15,10))\n",
    "plt.plot(test, label = 'sig observed')\n",
    "plt.plot(test1, label = 'mov observed')\n",
    "plt.plot(test2, label = 'pandy observed')\n",
    "plt.legend()\n",
    "plt.show()"
   ]
  },
  {
   "cell_type": "code",
   "execution_count": 97,
   "id": "ff87a706",
   "metadata": {
    "scrolled": true
   },
   "outputs": [
    {
     "data": {
      "image/png": "[encoded data removed]",
      "text/plain": [
       "<Figure size 1080x720 with 1 Axes>"
      ]
     },
     "metadata": {
      "needs_background": "light"
     },
     "output_type": "display_data"
    }
   ],
   "source": [
    "plt.figure(figsize=(15,10))\n",
    "plt.plot(pred, label='sig predictions')\n",
    "plt.plot(pred_1, label='mov predictions')\n",
    "plt.plot(pred_2, label='pandy predictions')\n",
    "plt.legend()\n",
    "plt.show()"
   ]
  },
  {
   "cell_type": "code",
   "execution_count": null,
   "id": "7a743d3f",
   "metadata": {},
   "outputs": [],
   "source": [
    "# I wanted to use more graphs to further explain my story but I had many problems as you can see below"
   ]
  },
  {
   "cell_type": "code",
   "execution_count": 148,
   "id": "bb48d074",
   "metadata": {},
   "outputs": [
    {
     "data": {
      "text/plain": [
       "<Figure size 1080x720 with 0 Axes>"
      ]
     },
     "metadata": {},
     "output_type": "display_data"
    },
    {
     "data": {
      "image/png": "[encoded data removed]",
      "text/plain": [
       "<Figure size 432x288 with 1 Axes>"
      ]
     },
     "metadata": {
      "needs_background": "light"
     },
     "output_type": "display_data"
    }
   ],
   "source": [
    "plt.figure(figsize=(15,10))\n",
    "\n",
    "sig_pc = test[1:].pct_change()\n",
    "sig_pc = sig_pc.rename({'Close': 'sig % change'}, axis=1)\n",
    "# Scale by 100 to get percentages\n",
    "sig_gr = 100 * sig_pc.asfreq(\"B\")\n",
    "fig, ax = plt.subplots()\n",
    "ax = sig_gr.plot(ax=ax)\n",
    "#plt.subplots(sig_gr, label='sig % change')\n",
    "\n",
    "# mov_pc = test1[1:].pct_change()\n",
    "# mov_pc.columns = ['Date','mov % change' ]\n",
    "# # Scale by 100 to get percentages\n",
    "# mov_gr = 100 * mov_pc.asfreq(\"B\")\n",
    "# fig1, ax1 = plt.subplots()\n",
    "# ax1 = mov_gr.plot(ax=ax1)\n",
    "# # plt.subplots(mov_gr, label='sig % change')\n",
    "\n",
    "# pandy_pc = test2[1:].pct_change()\n",
    "# pandy_pc.columns = ['Date','pandy % change' ]\n",
    "# # Scale by 100 to get percentages\n",
    "# pandy_gr = 100 * pandy_pc.asfreq(\"B\")\n",
    "# fig2, ax2 = plt.subplots()\n",
    "# ax2 = pandy_gr.plot(ax=ax2)\n",
    "\n",
    "\n",
    "\n",
    "plt.legend()\n",
    "plt.show()"
   ]
  },
  {
   "cell_type": "code",
   "execution_count": 203,
   "id": "111af012",
   "metadata": {},
   "outputs": [
    {
     "data": {
      "text/plain": [
       "2022-10-29    15.670474\n",
       "2022-10-30    15.731534\n",
       "2022-10-31    15.918358\n",
       "2022-11-01    16.216215\n",
       "2022-11-02    16.300638\n",
       "2022-11-03    16.282427\n",
       "2022-11-04    16.102007\n",
       "2022-11-05    16.013115\n",
       "2022-11-06    16.185330\n",
       "2022-11-07    16.319085\n",
       "2022-11-08    16.640517\n",
       "2022-11-09    16.352899\n",
       "2022-11-10    16.257800\n",
       "2022-11-11    16.783662\n",
       "2022-11-12    16.723760\n",
       "2022-11-13    17.156222\n",
       "2022-11-14    16.732081\n",
       "2022-11-15    16.701149\n",
       "2022-11-16    17.107416\n",
       "2022-11-17    17.040718\n",
       "2022-11-18    17.114755\n",
       "2022-11-19    16.811423\n",
       "2022-11-20    16.769628\n",
       "2022-11-21    16.663718\n",
       "2022-11-22    16.583806\n",
       "2022-11-23    16.549920\n",
       "2022-11-24    16.506905\n",
       "2022-11-25    16.671302\n",
       "2022-11-26    16.679940\n",
       "2022-11-27    16.523397\n",
       "2022-11-28    16.282372\n",
       "Freq: D, Name: Predictions, dtype: float64"
      ]
     },
     "execution_count": 203,
     "metadata": {},
     "output_type": "execute_result"
    }
   ],
   "source": [
    "#test.index & test[1:]\n",
    "pd.set_option('display.max_rows', None)\n",
    "pred_2"
   ]
  },
  {
   "cell_type": "code",
   "execution_count": 208,
   "id": "73277d60",
   "metadata": {},
   "outputs": [
    {
     "data": {
      "text/plain": [
       "15.670474439812118"
      ]
     },
     "execution_count": 208,
     "metadata": {},
     "output_type": "execute_result"
    }
   ],
   "source": [
    "pred_2.min()"
   ]
  }
 ],
 "metadata": {
  "kernelspec": {
   "display_name": "Python 3 (ipykernel)",
   "language": "python",
   "name": "python3"
  },
  "language_info": {
   "codemirror_mode": {
    "name": "ipython",
    "version": 3
   },
   "file_extension": ".py",
   "mimetype": "text/x-python",
   "name": "python",
   "nbconvert_exporter": "python",
   "pygments_lexer": "ipython3",
   "version": "3.9.12"
  }
 },
 "nbformat": 4,
 "nbformat_minor": 5
}
